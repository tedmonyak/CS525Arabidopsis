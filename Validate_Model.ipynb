{
 "cells": [
  {
   "cell_type": "code",
   "execution_count": 1,
   "id": "dbe4d7a3",
   "metadata": {},
   "outputs": [
    {
     "name": "stdout",
     "output_type": "stream",
     "text": [
      "Using cuda device\n"
     ]
    }
   ],
   "source": [
    "import torch\n",
    "from torch import nn\n",
    "from torch.utils.data import DataLoader\n",
    "import os\n",
    "import math\n",
    "import matplotlib.pyplot as plt\n",
    "import numpy as np\n",
    "\n",
    "from Load_Data import load_data\n",
    "\n",
    "device = (\n",
    "    \"mps\"\n",
    "    if torch.backends.mps.is_available()\n",
    "    else \"cuda\"\n",
    "    if torch.cuda.is_available()\n",
    "    else \"cpu\"\n",
    ")\n",
    "device = torch.device(device)\n",
    "print(f\"Using {device} device\")"
   ]
  },
  {
   "cell_type": "markdown",
   "id": "00cb81b0",
   "metadata": {},
   "source": [
    "# Load Model"
   ]
  },
  {
   "cell_type": "code",
   "execution_count": 2,
   "id": "df1e380c",
   "metadata": {},
   "outputs": [],
   "source": [
    "class DnaCnn(nn.Module):\n",
    "    def __init__(self, num_kernels=[20, 32, 32], kernel_size=[12,12,12],\n",
    "                 dropout=0):\n",
    "        super(DnaCnn, self).__init__()\n",
    "        self.input_channels=4\n",
    "        self.num_kernels=num_kernels\n",
    "        self.kernel_size=kernel_size\n",
    "        self.dropout=dropout\n",
    "        self.conv_block = nn.Sequential(\n",
    "            # first layer\n",
    "            nn.Conv1d(in_channels=self.input_channels,\n",
    "                      out_channels=num_kernels[0],\n",
    "                      kernel_size=kernel_size[0]),\n",
    "            nn.ReLU(),\n",
    "            nn.Dropout(self.dropout),\n",
    "            nn.MaxPool1d(kernel_size=2),\n",
    "        )\n",
    "        # second layer\n",
    "        self.conv_block.append(nn.Sequential(\n",
    "            nn.Conv1d(in_channels=self.num_kernels[0],\n",
    "                      out_channels=num_kernels[1],\n",
    "                      kernel_size=kernel_size[1]),\n",
    "            nn.ReLU(),\n",
    "            #nn.MaxPool1d(kernel_size=2),\n",
    "            nn.Dropout(p=self.dropout),            \n",
    "        ))\n",
    "        # Add a third convolutional layer\n",
    "        self.conv_block.append(nn.Sequential(\n",
    "            # second layer\n",
    "            nn.Conv1d(in_channels=self.num_kernels[1],\n",
    "                      out_channels=num_kernels[2],\n",
    "                      kernel_size=kernel_size[2]),\n",
    "            nn.ReLU(),\n",
    "            #nn.MaxPool1d(kernel_size=2),\n",
    "            nn.Dropout(p=self.dropout),            \n",
    "        ))\n",
    "        self.regression_block = nn.Sequential(\n",
    "            nn.Linear(num_kernels[2], num_kernels[2]),\n",
    "            nn.ReLU(),\n",
    "            nn.Dropout(p=self.dropout),            \n",
    "            nn.Linear(num_kernels[2], 1)\n",
    "            #nn.Sigmoid()\n",
    "        )            \n",
    "\n",
    "    def forward(self, x):\n",
    "        x = self.conv_block(x)\n",
    "        x,_ = torch.max(x, dim=2)        \n",
    "        x = self.regression_block(x)\n",
    "        return x"
   ]
  },
  {
   "cell_type": "code",
   "execution_count": 3,
   "id": "53a09dee",
   "metadata": {},
   "outputs": [
    {
     "data": {
      "text/plain": [
       "DnaCnn(\n",
       "  (conv_block): Sequential(\n",
       "    (0): Conv1d(4, 20, kernel_size=(12,), stride=(1,))\n",
       "    (1): ReLU()\n",
       "    (2): Dropout(p=0, inplace=False)\n",
       "    (3): MaxPool1d(kernel_size=2, stride=2, padding=0, dilation=1, ceil_mode=False)\n",
       "    (4): Sequential(\n",
       "      (0): Conv1d(20, 32, kernel_size=(12,), stride=(1,))\n",
       "      (1): ReLU()\n",
       "      (2): Dropout(p=0, inplace=False)\n",
       "    )\n",
       "    (5): Sequential(\n",
       "      (0): Conv1d(32, 32, kernel_size=(12,), stride=(1,))\n",
       "      (1): ReLU()\n",
       "      (2): Dropout(p=0, inplace=False)\n",
       "    )\n",
       "  )\n",
       "  (regression_block): Sequential(\n",
       "    (0): Linear(in_features=32, out_features=32, bias=True)\n",
       "    (1): ReLU()\n",
       "    (2): Dropout(p=0, inplace=False)\n",
       "    (3): Linear(in_features=32, out_features=1, bias=True)\n",
       "  )\n",
       ")"
      ]
     },
     "execution_count": 3,
     "metadata": {},
     "output_type": "execute_result"
    }
   ],
   "source": [
    "model = torch.load(\"model.pth\", weights_only=False)\n",
    "model.to(device)"
   ]
  },
  {
   "cell_type": "markdown",
   "id": "5a2ea597",
   "metadata": {},
   "source": [
    "# Load Validation Data"
   ]
  },
  {
   "cell_type": "code",
   "execution_count": null,
   "id": "46d43728",
   "metadata": {},
   "outputs": [],
   "source": [
    "Data = load_data(os.path.join(os.getcwd(), 'Data', 'Parsed_Data'), \n",
    "                    test_training_data_to_load=0, \n",
    "                    val_data_to_load=math.inf\n",
    "                    )\n",
    "\n",
    "training_dataset, testing_dataset, validation_dataset = Data\n"
   ]
  },
  {
   "cell_type": "code",
   "execution_count": null,
   "id": "374a6e11",
   "metadata": {},
   "outputs": [],
   "source": [
    "print(len(training_dataset))\n",
    "print(len(testing_dataset))\n",
    "print(len(validation_dataset))\n"
   ]
  },
  {
   "cell_type": "code",
   "execution_count": null,
   "id": "f17f6e65",
   "metadata": {},
   "outputs": [],
   "source": []
  }
 ],
 "metadata": {
  "kernelspec": {
   "display_name": "venv",
   "language": "python",
   "name": "python3"
  },
  "language_info": {
   "codemirror_mode": {
    "name": "ipython",
    "version": 3
   },
   "file_extension": ".py",
   "mimetype": "text/x-python",
   "name": "python",
   "nbconvert_exporter": "python",
   "pygments_lexer": "ipython3",
   "version": "3.12.3"
  }
 },
 "nbformat": 4,
 "nbformat_minor": 5
}
