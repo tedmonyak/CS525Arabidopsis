{
 "cells": [
  {
   "cell_type": "code",
   "execution_count": 7,
   "id": "481260f0",
   "metadata": {},
   "outputs": [
    {
     "name": "stdout",
     "output_type": "stream",
     "text": [
      "Using cuda device\n"
     ]
    }
   ],
   "source": [
    "import torch\n",
    "from torch import nn\n",
    "from torch.utils.data import DataLoader\n",
    "import os\n",
    "import math\n",
    "import matplotlib.pyplot as plt\n",
    "\n",
    "from Load_Data import load_data\n",
    "\n",
    "device = (\n",
    "    \"mps\"\n",
    "    if torch.backends.mps.is_available()\n",
    "    else \"cuda\"\n",
    "    if torch.cuda.is_available()\n",
    "    else \"cpu\"\n",
    ")\n",
    "device = torch.device(device)\n",
    "print(f\"Using {device} device\")"
   ]
  },
  {
   "cell_type": "markdown",
   "id": "b410bb37",
   "metadata": {},
   "source": [
    "# Load Data"
   ]
  },
  {
   "cell_type": "code",
   "execution_count": null,
   "id": "52960819",
   "metadata": {},
   "outputs": [],
   "source": [
    "def get_data_loaders(batch_size=64):\n",
    "    Data = load_data(os.path.join(os.getcwd(), 'Data', 'Parsed_Data'), \n",
    "                        test_training_data_to_load=1000, \n",
    "                        val_data_to_load=100\n",
    "                        )\n",
    "    \n",
    "    training_dataset, testing_dataset, validation_dataset = Data\n",
    "\n",
    "    train_loader = DataLoader(dataset=training_dataset,\n",
    "                              batch_size=batch_size,shuffle=True)\n",
    "    val_loader = DataLoader(dataset=testing_dataset,\n",
    "                              batch_size=batch_size,shuffle=True)\n",
    "    test_loader = DataLoader(dataset=validation_dataset,\n",
    "                              batch_size=batch_size,shuffle=True)\n",
    "    return train_loader, val_loader, test_loader\n",
    "\n",
    "train_loader, val_loader, test_loader = get_data_loaders()"
   ]
  },
  {
   "cell_type": "markdown",
   "id": "2c018f0a",
   "metadata": {},
   "source": [
    "# Build Model"
   ]
  },
  {
   "cell_type": "code",
   "execution_count": 3,
   "id": "fa21dde3",
   "metadata": {},
   "outputs": [],
   "source": [
    "class DnaCnn(nn.Module):\n",
    "    def __init__(self, num_kernels=[20, 32, 32], kernel_size=[12,12,12],\n",
    "                 dropout=0):\n",
    "        super(DnaCnn, self).__init__()\n",
    "        self.input_channels=4\n",
    "        self.num_kernels=num_kernels\n",
    "        self.kernel_size=kernel_size\n",
    "        self.dropout=dropout\n",
    "        self.conv_block = nn.Sequential(\n",
    "            # first layer\n",
    "            nn.Conv1d(in_channels=self.input_channels,\n",
    "                      out_channels=num_kernels[0],\n",
    "                      kernel_size=kernel_size[0]),\n",
    "            nn.ReLU(),\n",
    "            nn.Dropout(self.dropout),\n",
    "            nn.MaxPool1d(kernel_size=2),\n",
    "        )\n",
    "        # second layer\n",
    "        self.conv_block.append(nn.Sequential(\n",
    "            nn.Conv1d(in_channels=self.num_kernels[0],\n",
    "                      out_channels=num_kernels[1],\n",
    "                      kernel_size=kernel_size[1]),\n",
    "            nn.ReLU(),\n",
    "            #nn.MaxPool1d(kernel_size=2),\n",
    "            nn.Dropout(p=self.dropout),            \n",
    "        ))\n",
    "        # Add a third convolutional layer\n",
    "        self.conv_block.append(nn.Sequential(\n",
    "            # second layer\n",
    "            nn.Conv1d(in_channels=self.num_kernels[1],\n",
    "                      out_channels=num_kernels[2],\n",
    "                      kernel_size=kernel_size[2]),\n",
    "            nn.ReLU(),\n",
    "            #nn.MaxPool1d(kernel_size=2),\n",
    "            nn.Dropout(p=self.dropout),            \n",
    "        ))\n",
    "        self.regression_block = nn.Sequential(\n",
    "            nn.Linear(num_kernels[2], num_kernels[2]),\n",
    "            nn.ReLU(),\n",
    "            nn.Dropout(p=self.dropout),            \n",
    "            nn.Linear(num_kernels[2], 1)\n",
    "            #nn.Sigmoid()\n",
    "        )            \n",
    "\n",
    "    def forward(self, x):\n",
    "        x = self.conv_block(x)\n",
    "        x,_ = torch.max(x, dim=2)        \n",
    "        x = self.regression_block(x)\n",
    "        return x"
   ]
  },
  {
   "cell_type": "markdown",
   "id": "524a327e",
   "metadata": {},
   "source": [
    "# Train Model"
   ]
  },
  {
   "cell_type": "markdown",
   "id": "78d9bd1a",
   "metadata": {},
   "source": [
    "### Training functions"
   ]
  },
  {
   "cell_type": "code",
   "execution_count": null,
   "id": "71beb2c3",
   "metadata": {},
   "outputs": [],
   "source": [
    "def train_epoch(dataloader, model, loss_fn, optimizer, epoch):\n",
    "    size = len(dataloader)\n",
    "    num_batches = len(dataloader)\n",
    "    total_loss = 0\n",
    "    # set the model to training mode - important when you have \n",
    "    # batch normalization and dropout layers\n",
    "    model.train()\n",
    "    for batch_idx, (X, y) in enumerate(dataloader):\n",
    "        X, y = X.to(device), y.to(device)\n",
    "        optimizer.zero_grad()\n",
    "        # Compute prediction and loss\n",
    "        y_pred = model(X)\n",
    "        loss = loss_fn(y_pred, y)\n",
    "        # backpropagation\n",
    "        loss.backward()\n",
    "        optimizer.step()\n",
    "        total_loss += loss.item()\n",
    "    if epoch % 10 == 0 :\n",
    "        print(f\"training loss: {total_loss/num_batches:>7f}\")\n",
    "    return total_loss / num_batches\n",
    "\n",
    "def validation(dataloader, model, loss_fn, epoch):\n",
    "    # set the model to evaluation mode \n",
    "    model.eval()\n",
    "    # size of dataset\n",
    "    size = len(dataloader.dataset)\n",
    "    num_batches = len(dataloader)\n",
    "    validation_loss, correct = 0, 0\n",
    "    # Evaluating the model with torch.no_grad() ensures that no gradients \n",
    "    # are computed during test mode\n",
    "    # also serves to reduce unnecessary gradient computations and memory usage \n",
    "    # for tensors with requires_grad=True\n",
    "    with torch.no_grad():\n",
    "        for X, y in dataloader:\n",
    "            X, y = X.to(device), y.to(device)\n",
    "            y_pred = model(X)\n",
    "            validation_loss += loss_fn(y_pred, y).item()\n",
    "    validation_loss /= num_batches\n",
    "    if epoch%10 == 0 :\n",
    "        print(f\"Validation Loss: {validation_loss:>8f} \\n\")\n",
    "    return validation_loss\n",
    "\n",
    "def train_model(train_loader, val_loader, model, optimizer):\n",
    "    epochs = 50\n",
    "    loss_fn = nn.PoissonNLLLoss()\n",
    "    patience = 10\n",
    "    \n",
    "    train_loss = []\n",
    "    validation_loss = []\n",
    "    best_loss = math.inf\n",
    "    for t in range(epochs):\n",
    "        if t % 10 == 0 :\n",
    "            print(f\"Epoch {t}\\n-------------------------------\")\n",
    "        loss = train_epoch(train_loader, model, loss_fn, optimizer, t)\n",
    "        train_loss.append(loss)\n",
    "        loss = validation(val_loader, model, loss_fn, t)\n",
    "        validation_loss.append(loss)\n",
    "    \n",
    "        if loss < best_loss:\n",
    "            best_loss = loss    \n",
    "            p = patience\n",
    "        else:\n",
    "            p -= 1\n",
    "            if p == 0:\n",
    "                print(\"Early Stopping!\")\n",
    "                break    \n",
    "    print(\"Done!\")\n",
    "\n",
    "    def plot_loss():\n",
    "        plt.figure(figsize=(4,3))\n",
    "        plt.plot(train_loss, label='Training')\n",
    "        plt.plot(validation_loss, label='Validation')\n",
    "        plt.xlabel('Epoch')\n",
    "        plt.ylabel('Loss')\n",
    "        plt.ylim(0)\n",
    "        plt.legend();\n",
    "    plot_loss()\n"
   ]
  },
  {
   "cell_type": "markdown",
   "id": "4196cdfa",
   "metadata": {},
   "source": [
    "### Train"
   ]
  },
  {
   "cell_type": "code",
   "execution_count": 12,
   "id": "6f6b9d5d",
   "metadata": {},
   "outputs": [
    {
     "name": "stdout",
     "output_type": "stream",
     "text": [
      "Epoch 0\n",
      "-------------------------------\n"
     ]
    },
    {
     "ename": "RuntimeError",
     "evalue": "The size of tensor a (37) must match the size of tensor b (64) at non-singleton dimension 1",
     "output_type": "error",
     "traceback": [
      "\u001b[31m---------------------------------------------------------------------------\u001b[39m",
      "\u001b[31mRuntimeError\u001b[39m                              Traceback (most recent call last)",
      "\u001b[36mCell\u001b[39m\u001b[36m \u001b[39m\u001b[32mIn[12]\u001b[39m\u001b[32m, line 4\u001b[39m\n\u001b[32m      2\u001b[39m lr = \u001b[32m0.001\u001b[39m\n\u001b[32m      3\u001b[39m optimizer = torch.optim.Adam(model.parameters(), lr=lr)\n\u001b[32m----> \u001b[39m\u001b[32m4\u001b[39m \u001b[43mtrain_model\u001b[49m\u001b[43m(\u001b[49m\u001b[43mtrain_loader\u001b[49m\u001b[43m,\u001b[49m\u001b[43m \u001b[49m\u001b[43mval_loader\u001b[49m\u001b[43m,\u001b[49m\u001b[43m \u001b[49m\u001b[43mmodel\u001b[49m\u001b[43m,\u001b[49m\u001b[43m \u001b[49m\u001b[43moptimizer\u001b[49m\u001b[43m)\u001b[49m\n",
      "\u001b[36mCell\u001b[39m\u001b[36m \u001b[39m\u001b[32mIn[4]\u001b[39m\u001b[32m, line 54\u001b[39m, in \u001b[36mtrain_model\u001b[39m\u001b[34m(train_loader, val_loader, model, optimizer)\u001b[39m\n\u001b[32m     52\u001b[39m \u001b[38;5;28;01mif\u001b[39;00m t % \u001b[32m10\u001b[39m == \u001b[32m0\u001b[39m :\n\u001b[32m     53\u001b[39m     \u001b[38;5;28mprint\u001b[39m(\u001b[33mf\u001b[39m\u001b[33m\"\u001b[39m\u001b[33mEpoch \u001b[39m\u001b[38;5;132;01m{\u001b[39;00mt\u001b[38;5;132;01m}\u001b[39;00m\u001b[38;5;130;01m\\n\u001b[39;00m\u001b[33m-------------------------------\u001b[39m\u001b[33m\"\u001b[39m)\n\u001b[32m---> \u001b[39m\u001b[32m54\u001b[39m loss = \u001b[43mtrain_epoch\u001b[49m\u001b[43m(\u001b[49m\u001b[43mtrain_loader\u001b[49m\u001b[43m,\u001b[49m\u001b[43m \u001b[49m\u001b[43mmodel\u001b[49m\u001b[43m,\u001b[49m\u001b[43m \u001b[49m\u001b[43mloss_fn\u001b[49m\u001b[43m,\u001b[49m\u001b[43m \u001b[49m\u001b[43moptimizer\u001b[49m\u001b[43m,\u001b[49m\u001b[43m \u001b[49m\u001b[43mt\u001b[49m\u001b[43m)\u001b[49m\n\u001b[32m     55\u001b[39m train_loss.append(loss)\n\u001b[32m     56\u001b[39m loss = validation(val_loader, model, loss_fn, t)\n",
      "\u001b[36mCell\u001b[39m\u001b[36m \u001b[39m\u001b[32mIn[4]\u001b[39m\u001b[32m, line 13\u001b[39m, in \u001b[36mtrain_epoch\u001b[39m\u001b[34m(dataloader, model, loss_fn, optimizer, epoch)\u001b[39m\n\u001b[32m     11\u001b[39m \u001b[38;5;66;03m# Compute prediction and loss\u001b[39;00m\n\u001b[32m     12\u001b[39m y_pred = model(X)\n\u001b[32m---> \u001b[39m\u001b[32m13\u001b[39m loss = \u001b[43mloss_fn\u001b[49m\u001b[43m(\u001b[49m\u001b[43my_pred\u001b[49m\u001b[43m,\u001b[49m\u001b[43m \u001b[49m\u001b[43my\u001b[49m\u001b[43m)\u001b[49m\n\u001b[32m     14\u001b[39m \u001b[38;5;66;03m# backpropagation\u001b[39;00m\n\u001b[32m     15\u001b[39m loss.backward()\n",
      "\u001b[36mFile \u001b[39m\u001b[32m~/CS525Arabidopsis/venv/lib/python3.12/site-packages/torch/nn/modules/module.py:1739\u001b[39m, in \u001b[36mModule._wrapped_call_impl\u001b[39m\u001b[34m(self, *args, **kwargs)\u001b[39m\n\u001b[32m   1737\u001b[39m     \u001b[38;5;28;01mreturn\u001b[39;00m \u001b[38;5;28mself\u001b[39m._compiled_call_impl(*args, **kwargs)  \u001b[38;5;66;03m# type: ignore[misc]\u001b[39;00m\n\u001b[32m   1738\u001b[39m \u001b[38;5;28;01melse\u001b[39;00m:\n\u001b[32m-> \u001b[39m\u001b[32m1739\u001b[39m     \u001b[38;5;28;01mreturn\u001b[39;00m \u001b[38;5;28;43mself\u001b[39;49m\u001b[43m.\u001b[49m\u001b[43m_call_impl\u001b[49m\u001b[43m(\u001b[49m\u001b[43m*\u001b[49m\u001b[43margs\u001b[49m\u001b[43m,\u001b[49m\u001b[43m \u001b[49m\u001b[43m*\u001b[49m\u001b[43m*\u001b[49m\u001b[43mkwargs\u001b[49m\u001b[43m)\u001b[49m\n",
      "\u001b[36mFile \u001b[39m\u001b[32m~/CS525Arabidopsis/venv/lib/python3.12/site-packages/torch/nn/modules/module.py:1750\u001b[39m, in \u001b[36mModule._call_impl\u001b[39m\u001b[34m(self, *args, **kwargs)\u001b[39m\n\u001b[32m   1745\u001b[39m \u001b[38;5;66;03m# If we don't have any hooks, we want to skip the rest of the logic in\u001b[39;00m\n\u001b[32m   1746\u001b[39m \u001b[38;5;66;03m# this function, and just call forward.\u001b[39;00m\n\u001b[32m   1747\u001b[39m \u001b[38;5;28;01mif\u001b[39;00m \u001b[38;5;129;01mnot\u001b[39;00m (\u001b[38;5;28mself\u001b[39m._backward_hooks \u001b[38;5;129;01mor\u001b[39;00m \u001b[38;5;28mself\u001b[39m._backward_pre_hooks \u001b[38;5;129;01mor\u001b[39;00m \u001b[38;5;28mself\u001b[39m._forward_hooks \u001b[38;5;129;01mor\u001b[39;00m \u001b[38;5;28mself\u001b[39m._forward_pre_hooks\n\u001b[32m   1748\u001b[39m         \u001b[38;5;129;01mor\u001b[39;00m _global_backward_pre_hooks \u001b[38;5;129;01mor\u001b[39;00m _global_backward_hooks\n\u001b[32m   1749\u001b[39m         \u001b[38;5;129;01mor\u001b[39;00m _global_forward_hooks \u001b[38;5;129;01mor\u001b[39;00m _global_forward_pre_hooks):\n\u001b[32m-> \u001b[39m\u001b[32m1750\u001b[39m     \u001b[38;5;28;01mreturn\u001b[39;00m \u001b[43mforward_call\u001b[49m\u001b[43m(\u001b[49m\u001b[43m*\u001b[49m\u001b[43margs\u001b[49m\u001b[43m,\u001b[49m\u001b[43m \u001b[49m\u001b[43m*\u001b[49m\u001b[43m*\u001b[49m\u001b[43mkwargs\u001b[49m\u001b[43m)\u001b[49m\n\u001b[32m   1752\u001b[39m result = \u001b[38;5;28;01mNone\u001b[39;00m\n\u001b[32m   1753\u001b[39m called_always_called_hooks = \u001b[38;5;28mset\u001b[39m()\n",
      "\u001b[36mFile \u001b[39m\u001b[32m~/CS525Arabidopsis/venv/lib/python3.12/site-packages/torch/nn/modules/loss.py:354\u001b[39m, in \u001b[36mPoissonNLLLoss.forward\u001b[39m\u001b[34m(self, log_input, target)\u001b[39m\n\u001b[32m    353\u001b[39m \u001b[38;5;28;01mdef\u001b[39;00m\u001b[38;5;250m \u001b[39m\u001b[34mforward\u001b[39m(\u001b[38;5;28mself\u001b[39m, log_input: Tensor, target: Tensor) -> Tensor:\n\u001b[32m--> \u001b[39m\u001b[32m354\u001b[39m     \u001b[38;5;28;01mreturn\u001b[39;00m \u001b[43mF\u001b[49m\u001b[43m.\u001b[49m\u001b[43mpoisson_nll_loss\u001b[49m\u001b[43m(\u001b[49m\n\u001b[32m    355\u001b[39m \u001b[43m        \u001b[49m\u001b[43mlog_input\u001b[49m\u001b[43m,\u001b[49m\n\u001b[32m    356\u001b[39m \u001b[43m        \u001b[49m\u001b[43mtarget\u001b[49m\u001b[43m,\u001b[49m\n\u001b[32m    357\u001b[39m \u001b[43m        \u001b[49m\u001b[43mlog_input\u001b[49m\u001b[43m=\u001b[49m\u001b[38;5;28;43mself\u001b[39;49m\u001b[43m.\u001b[49m\u001b[43mlog_input\u001b[49m\u001b[43m,\u001b[49m\n\u001b[32m    358\u001b[39m \u001b[43m        \u001b[49m\u001b[43mfull\u001b[49m\u001b[43m=\u001b[49m\u001b[38;5;28;43mself\u001b[39;49m\u001b[43m.\u001b[49m\u001b[43mfull\u001b[49m\u001b[43m,\u001b[49m\n\u001b[32m    359\u001b[39m \u001b[43m        \u001b[49m\u001b[43meps\u001b[49m\u001b[43m=\u001b[49m\u001b[38;5;28;43mself\u001b[39;49m\u001b[43m.\u001b[49m\u001b[43meps\u001b[49m\u001b[43m,\u001b[49m\n\u001b[32m    360\u001b[39m \u001b[43m        \u001b[49m\u001b[43mreduction\u001b[49m\u001b[43m=\u001b[49m\u001b[38;5;28;43mself\u001b[39;49m\u001b[43m.\u001b[49m\u001b[43mreduction\u001b[49m\u001b[43m,\u001b[49m\n\u001b[32m    361\u001b[39m \u001b[43m    \u001b[49m\u001b[43m)\u001b[49m\n",
      "\u001b[36mFile \u001b[39m\u001b[32m~/CS525Arabidopsis/venv/lib/python3.12/site-packages/torch/nn/functional.py:3224\u001b[39m, in \u001b[36mpoisson_nll_loss\u001b[39m\u001b[34m(input, target, log_input, full, size_average, eps, reduce, reduction)\u001b[39m\n\u001b[32m   3221\u001b[39m     ret = \u001b[38;5;28minput\u001b[39m\n\u001b[32m   3222\u001b[39m     \u001b[38;5;28;01mraise\u001b[39;00m \u001b[38;5;167;01mValueError\u001b[39;00m(reduction + \u001b[33m\"\u001b[39m\u001b[33m is not a valid value for reduction\u001b[39m\u001b[33m\"\u001b[39m)\n\u001b[32m-> \u001b[39m\u001b[32m3224\u001b[39m ret = \u001b[43mtorch\u001b[49m\u001b[43m.\u001b[49m\u001b[43mpoisson_nll_loss\u001b[49m\u001b[43m(\u001b[49m\n\u001b[32m   3225\u001b[39m \u001b[43m    \u001b[49m\u001b[38;5;28;43minput\u001b[39;49m\u001b[43m,\u001b[49m\u001b[43m \u001b[49m\u001b[43mtarget\u001b[49m\u001b[43m,\u001b[49m\u001b[43m \u001b[49m\u001b[43mlog_input\u001b[49m\u001b[43m,\u001b[49m\u001b[43m \u001b[49m\u001b[43mfull\u001b[49m\u001b[43m,\u001b[49m\u001b[43m \u001b[49m\u001b[43meps\u001b[49m\u001b[43m,\u001b[49m\u001b[43m \u001b[49m\u001b[43m_Reduction\u001b[49m\u001b[43m.\u001b[49m\u001b[43mget_enum\u001b[49m\u001b[43m(\u001b[49m\u001b[43mreduction\u001b[49m\u001b[43m)\u001b[49m\n\u001b[32m   3226\u001b[39m \u001b[43m\u001b[49m\u001b[43m)\u001b[49m\n\u001b[32m   3227\u001b[39m \u001b[38;5;28;01mreturn\u001b[39;00m ret\n",
      "\u001b[31mRuntimeError\u001b[39m: The size of tensor a (37) must match the size of tensor b (64) at non-singleton dimension 1"
     ]
    }
   ],
   "source": [
    "model = DnaCnn().to(device)\n",
    "lr = 0.001\n",
    "optimizer = torch.optim.Adam(model.parameters(), lr=lr)\n",
    "train_model(train_loader, val_loader, model, optimizer)"
   ]
  },
  {
   "cell_type": "markdown",
   "id": "dd08fa91",
   "metadata": {},
   "source": [
    "### Save Model"
   ]
  },
  {
   "cell_type": "code",
   "execution_count": null,
   "id": "0c4c3967",
   "metadata": {},
   "outputs": [],
   "source": [
    "torch.save(model, \"model.pth\")"
   ]
  },
  {
   "cell_type": "markdown",
   "id": "20ea812b",
   "metadata": {},
   "source": [
    "### Train Model"
   ]
  },
  {
   "cell_type": "code",
   "execution_count": null,
   "id": "a8c705c4",
   "metadata": {},
   "outputs": [],
   "source": [
    "model = torch.load(\"model.pth\")\n",
    "model.to(device)\n",
    "model.eval()"
   ]
  }
 ],
 "metadata": {
  "kernelspec": {
   "display_name": "venv",
   "language": "python",
   "name": "python3"
  },
  "language_info": {
   "codemirror_mode": {
    "name": "ipython",
    "version": 3
   },
   "file_extension": ".py",
   "mimetype": "text/x-python",
   "name": "python",
   "nbconvert_exporter": "python",
   "pygments_lexer": "ipython3",
   "version": "3.12.3"
  }
 },
 "nbformat": 4,
 "nbformat_minor": 5
}
