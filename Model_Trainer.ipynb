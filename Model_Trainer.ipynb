{
 "cells": [
  {
   "cell_type": "code",
   "execution_count": 15,
   "id": "481260f0",
   "metadata": {},
   "outputs": [
    {
     "name": "stdout",
     "output_type": "stream",
     "text": [
      "Using mps device\n"
     ]
    }
   ],
   "source": [
    "import torch\n",
    "from torch import nn\n",
    "from torch.utils.data import DataLoader\n",
    "import os\n",
    "import math\n",
    "import matplotlib.pyplot as plt\n",
    "\n",
    "import numpy as np\n",
    "\n",
    "from Load_Data import load_data\n",
    "\n",
    "device = (\n",
    "    \"mps\"\n",
    "    if torch.backends.mps.is_available()\n",
    "    else \"cuda\"\n",
    "    if torch.cuda.is_available()\n",
    "    else \"cpu\"\n",
    ")\n",
    "device = torch.device(device)\n",
    "print(f\"Using {device} device\")"
   ]
  },
  {
   "cell_type": "markdown",
   "id": "b410bb37",
   "metadata": {},
   "source": [
    "# Load Data"
   ]
  },
  {
   "cell_type": "code",
   "execution_count": null,
   "id": "52960819",
   "metadata": {},
   "outputs": [
    {
     "name": "stdout",
     "output_type": "stream",
     "text": [
      "Loading sequences from sequences.fasta\n",
      "Loading coverage from SRX391990.faste\n",
      "Loading coverage from SRX9770779.faste\n",
      "Loading coverage from SRX9770784.faste\n",
      "Loading coverage from SRX9770786.faste\n",
      "Loading coverage from SRX391992.faste\n",
      "Loading coverage from SRX391996.faste\n",
      "Loading coverage from SRX9770782.faste\n",
      "Loading coverage from SRX1098138.faste\n",
      "Loading coverage from SRX9770780.faste\n",
      "Loading coverage from SRX391994.faste\n",
      "Loading coverage from SRX9770787.faste\n",
      "Loading coverage from SRX391993.faste\n",
      "Loading coverage from SRX9770778.faste\n",
      "Loading coverage from SRX391991.faste\n",
      "Loading coverage from SRX9770785.faste\n",
      "Loading coverage from SRX9770781.faste\n",
      "Loading coverage from SRX391995.faste\n",
      "Loading coverage from SRX391997.faste\n",
      "Loading coverage from SRX9770783.faste\n",
      "Loading coverage from SRX1098137.faste\n",
      "Loading coverage from SRX1098135.faste\n",
      "Loading coverage from SRX1096550.faste\n",
      "Loading coverage from SRX9770774.faste\n",
      "Loading coverage from SRX9770789.faste\n",
      "Loading coverage from SRX9770790.faste\n",
      "Loading coverage from SRX1096549.faste\n",
      "Loading coverage from SRX9770792.faste\n",
      "Loading coverage from SRX9770776.faste\n",
      "Loading coverage from SRX9770773.faste\n",
      "Loading coverage from SRX1098136.faste\n",
      "Loading coverage from SRX9770793.faste\n",
      "Loading coverage from SRX9770777.faste\n",
      "Loading coverage from SRX9770775.faste\n",
      "Loading coverage from SRX9770788.faste\n",
      "Loading coverage from SRX1096551.faste\n",
      "Loading coverage from SRX1096548.faste\n",
      "Loading coverage from SRX9770791.faste\n",
      "Done Loading Data\n"
     ]
    }
   ],
   "source": [
    "def get_data_loaders(batch_size=64, faste_files_to_load=37, normalize=False):\n",
    "    Data = load_data(data_dir=os.path.join(os.getcwd(), 'Data', 'Parsed_Data_Mean'), \n",
    "                     train_val_data_to_load=math.inf,\n",
    "                     test_data_to_load=math.inf,\n",
    "                     faste_files_to_load=faste_files_to_load,\n",
    "                     normalize=normalize)\n",
    "    \n",
    "    training_dataset, validation_dataset, testing_dataset = Data\n",
    "\n",
    "    train_loader = DataLoader(dataset=training_dataset,\n",
    "                              batch_size=batch_size,shuffle=True)\n",
    "    val_loader = DataLoader(dataset=validation_dataset,\n",
    "                              batch_size=batch_size,shuffle=True)\n",
    "    test_loader = DataLoader(dataset=testing_dataset,\n",
    "                              batch_size=batch_size,shuffle=True)\n",
    "    return train_loader, val_loader, test_loader\n",
    "\n",
    "faste_files_to_load = 37\n",
    "normalize = False\n",
    "train_loader, val_loader, test_loader = get_data_loaders(faste_files_to_load=faste_files_to_load, normalize=normalize)"
   ]
  },
  {
   "cell_type": "code",
   "execution_count": 23,
   "id": "00305dc2",
   "metadata": {},
   "outputs": [
    {
     "data": {
      "text/plain": [
       "(tensor([[1., 0., 1.,  ..., 1., 0., 0.],\n",
       "         [0., 1., 0.,  ..., 0., 0., 0.],\n",
       "         [0., 0., 0.,  ..., 0., 1., 1.],\n",
       "         [0., 0., 0.,  ..., 0., 0., 0.]]),\n",
       " tensor([0.0023, 0.0006, 0.0011, 0.0005, 0.0024, 0.0008, 0.0007, 0.0025, 0.0003,\n",
       "         0.0010, 0.0004, 0.0008, 0.0004, 0.0018, 0.0004, 0.0008, 0.0005, 0.0009,\n",
       "         0.0007, 0.0012, 0.0008, 0.0016, 0.0005, 0.0007, 0.0008, 0.0013, 0.0007,\n",
       "         0.0003, 0.0005, 0.0008, 0.0007, 0.0006, 0.0006, 0.0003, 0.0024, 0.0013,\n",
       "         0.0006]))"
      ]
     },
     "execution_count": 23,
     "metadata": {},
     "output_type": "execute_result"
    }
   ],
   "source": [
    "train_loader.dataset[100]\n"
   ]
  },
  {
   "cell_type": "markdown",
   "id": "2c018f0a",
   "metadata": {},
   "source": [
    "# Build Model"
   ]
  },
  {
   "cell_type": "code",
   "execution_count": 24,
   "id": "fa21dde3",
   "metadata": {},
   "outputs": [],
   "source": [
    "class DnaCnn(nn.Module):\n",
    "    def __init__(self, num_kernels=[512, 256, 128], kernel_size=[1028,256,128],\n",
    "                 dropout=0):\n",
    "        super(DnaCnn, self).__init__()\n",
    "        self.input_channels=4\n",
    "        self.num_kernels=num_kernels\n",
    "        self.kernel_size=kernel_size\n",
    "        self.dropout=dropout\n",
    "        self.conv_block = nn.Sequential(\n",
    "            # first layer\n",
    "            nn.Conv1d(in_channels=self.input_channels,\n",
    "                      out_channels=num_kernels[0],\n",
    "                      kernel_size=kernel_size[0]),\n",
    "            nn.ReLU(),\n",
    "            nn.Dropout(self.dropout),\n",
    "            nn.MaxPool1d(kernel_size=2),\n",
    "        )\n",
    "        # second layer\n",
    "        # self.conv_block.append(nn.Sequential(\n",
    "        #     nn.Conv1d(in_channels=self.num_kernels[0],\n",
    "        #               out_channels=num_kernels[1],\n",
    "        #               kernel_size=kernel_size[1]),\n",
    "        #     nn.ReLU(),\n",
    "        #     nn.MaxPool1d(kernel_size=2),\n",
    "        #     nn.Dropout(p=self.dropout),            \n",
    "        # ))\n",
    "        # Add a third convolutional layer\n",
    "        # self.conv_block.append(nn.Sequential(\n",
    "        #     # second layer\n",
    "        #     nn.Conv1d(in_channels=self.num_kernels[1],\n",
    "        #               out_channels=num_kernels[2],\n",
    "        #               kernel_size=kernel_size[2]),\n",
    "        #     nn.ReLU(),\n",
    "        #     nn.MaxPool1d(kernel_size=2),\n",
    "        #     nn.Dropout(p=self.dropout),            \n",
    "        # ))\n",
    "        self.regression_block = nn.Sequential(\n",
    "            nn.Linear(num_kernels[0], 37),\n",
    "            nn.ReLU(),  # ReLU ensures positive outputs\n",
    "            # nn.LogSoftmax(dim=1)  # Apply log softmax if necessary for your task\n",
    "        )  \n",
    "\n",
    "    def forward(self, x):\n",
    "        x = self.conv_block(x)\n",
    "        x,_ = torch.max(x, dim=2)        \n",
    "        x = self.regression_block(x)\n",
    "        return x"
   ]
  },
  {
   "cell_type": "code",
   "execution_count": 35,
   "id": "fbdc181c-212d-4994-9ab4-acc2ca3a044a",
   "metadata": {},
   "outputs": [],
   "source": [
    "class LocalDnaCnn(nn.Module):\n",
    "    def __init__(self, num_kernels=[128, 64, 32, 16], kernel_size=[128,96,64,32],\n",
    "                 dropout=0):\n",
    "        super(LocalDnaCnn, self).__init__()\n",
    "        self.input_channels=4\n",
    "        self.num_kernels=num_kernels\n",
    "        self.kernel_size=kernel_size\n",
    "        self.dropout=dropout\n",
    "        self.conv_block = nn.Sequential(\n",
    "            # first layer\n",
    "            nn.Conv1d(in_channels=self.input_channels,\n",
    "                      out_channels=num_kernels[0],\n",
    "                      kernel_size=kernel_size[0]),\n",
    "            nn.ReLU(),\n",
    "            nn.Dropout(self.dropout),\n",
    "            nn.MaxPool1d(kernel_size=2),\n",
    "        )\n",
    "        # second layer\n",
    "        self.conv_block.append(nn.Sequential(\n",
    "            nn.Conv1d(in_channels=self.num_kernels[0],\n",
    "                      out_channels=num_kernels[1],\n",
    "                      kernel_size=kernel_size[1]),\n",
    "            nn.ReLU(),\n",
    "            # nn.MaxPool1d(kernel_size=2),\n",
    "            nn.Dropout(p=self.dropout),            \n",
    "        ))\n",
    "        # Add a third convolutional layer\n",
    "        self.conv_block.append(nn.Sequential(\n",
    "            # second layer\n",
    "            nn.Conv1d(in_channels=self.num_kernels[1],\n",
    "                      out_channels=num_kernels[2],\n",
    "                      kernel_size=kernel_size[2]),\n",
    "            nn.ReLU(),\n",
    "            # nn.MaxPool1d(kernel_size=2),\n",
    "            nn.Dropout(p=self.dropout),            \n",
    "        ))\n",
    "        # Add a fourth convolutional layer\n",
    "        self.conv_block.append(nn.Sequential(\n",
    "            nn.Conv1d(in_channels=self.num_kernels[2],\n",
    "                      out_channels=num_kernels[3],\n",
    "                      kernel_size=kernel_size[3]),\n",
    "            nn.ReLU(),\n",
    "            # nn.MaxPool1d(kernel_size=2),\n",
    "            nn.Dropout(p=self.dropout),            \n",
    "        ))\n",
    "        self.regression_block = nn.Sequential(\n",
    "            nn.Linear(num_kernels[3], num_kernels[3]),\n",
    "            nn.Linear(num_kernels[3], faste_files_to_load),\n",
    "            nn.ReLU(),  # ReLU ensures positive outputs\n",
    "        )  \n",
    "\n",
    "    def forward(self, x):\n",
    "        x = self.conv_block(x)\n",
    "        x,_ = torch.max(x, dim=2)        \n",
    "        x = self.regression_block(x)\n",
    "        return x"
   ]
  },
  {
   "cell_type": "markdown",
   "id": "524a327e",
   "metadata": {},
   "source": [
    "# Train Model"
   ]
  },
  {
   "cell_type": "markdown",
   "id": "78d9bd1a",
   "metadata": {},
   "source": [
    "### Training functions"
   ]
  },
  {
   "cell_type": "code",
   "execution_count": 27,
   "id": "71beb2c3",
   "metadata": {},
   "outputs": [],
   "source": [
    "def train_epoch(dataloader, model, loss_fn, optimizer, epoch):\n",
    "    size = len(dataloader)\n",
    "    num_batches = len(dataloader)\n",
    "    total_loss = 0\n",
    "    # set the model to training mode - important when you have \n",
    "    # batch normalization and dropout layers\n",
    "    model.train()\n",
    "    for batch_idx, (X, y) in enumerate(dataloader):\n",
    "        X, y = X.to(device), y.to(device)\n",
    "        optimizer.zero_grad()\n",
    "        # Compute prediction and loss\n",
    "        y_pred = model(X)\n",
    "        loss = loss_fn(y_pred, y)\n",
    "        # backpropagation\n",
    "        loss.backward()\n",
    "        optimizer.step()\n",
    "        total_loss += loss.item()\n",
    "    if epoch % 10 == 0 :\n",
    "        print(f\"training loss: {total_loss/num_batches:>7f}\")\n",
    "    return total_loss / num_batches\n",
    "\n",
    "def validation(dataloader, model, loss_fn, epoch):\n",
    "    # set the model to evaluation mode \n",
    "    model.eval()\n",
    "    # size of dataset\n",
    "    size = len(dataloader.dataset)\n",
    "    num_batches = len(dataloader)\n",
    "    validation_loss, correct = 0, 0\n",
    "    # Evaluating the model with torch.no_grad() ensures that no gradients \n",
    "    # are computed during test mode\n",
    "    # also serves to reduce unnecessary gradient computations and memory usage \n",
    "    # for tensors with requires_grad=True\n",
    "    with torch.no_grad():\n",
    "        for X, y in dataloader:\n",
    "            X, y = X.to(device), y.to(device)\n",
    "            y_pred = model(X)\n",
    "            validation_loss += loss_fn(y_pred, y).item()\n",
    "    validation_loss /= num_batches\n",
    "    if epoch%10 == 0 :\n",
    "        print(f\"Validation Loss: {validation_loss:>8f} \\n\")\n",
    "    return validation_loss\n",
    "\n",
    "def train_model(train_loader, val_loader, model, optimizer, epochs, patience=10):\n",
    "    loss_fn = nn.PoissonNLLLoss(log_input=True, full=True)\n",
    "    p = patience\n",
    "\n",
    "    train_loss = []\n",
    "    validation_loss = []\n",
    "    best_loss = math.inf\n",
    "    for t in range(epochs):\n",
    "        if t % 10 == 0 :\n",
    "            print(f\"Epoch {t}\\n-------------------------------\")\n",
    "        loss = train_epoch(train_loader, model, loss_fn, optimizer, t)\n",
    "        train_loss.append(loss)\n",
    "        loss = validation(val_loader, model, loss_fn, t)\n",
    "        validation_loss.append(loss)\n",
    "    \n",
    "        if loss < best_loss:\n",
    "            best_loss = loss    \n",
    "            p = patience\n",
    "        else:\n",
    "            p -= 1\n",
    "            if p == 0:\n",
    "                print(\"Early Stopping!\")\n",
    "                break    \n",
    "    print(\"Done!\")\n",
    "\n",
    "    def plot_loss(train_loss, validation_loss):\n",
    "        plt.figure(figsize=(4,3))\n",
    "        plt.plot(np.arange(len(train_loss)), train_loss, label='Training')\n",
    "        plt.plot(np.arange(len(validation_loss)), validation_loss, label='Validation')\n",
    "        plt.xlabel('Epoch')\n",
    "        plt.ylabel('Loss')\n",
    "        plt.legend()\n",
    "        plt.show()\n",
    "    plot_loss(train_loss, validation_loss)\n"
   ]
  },
  {
   "cell_type": "markdown",
   "id": "4196cdfa",
   "metadata": {},
   "source": [
    "### Train"
   ]
  },
  {
   "cell_type": "code",
   "execution_count": null,
   "id": "6f6b9d5d",
   "metadata": {},
   "outputs": [
    {
     "name": "stdout",
     "output_type": "stream",
     "text": [
      "Epoch 0\n",
      "-------------------------------\n",
      "training loss: 0.170305\n",
      "Validation Loss: 0.012715 \n",
      "\n",
      "Epoch 10\n",
      "-------------------------------\n",
      "training loss: 0.009806\n",
      "Validation Loss: 0.008737 \n",
      "\n",
      "Epoch 20\n",
      "-------------------------------\n",
      "training loss: 0.009760\n",
      "Validation Loss: 0.008729 \n",
      "\n",
      "Epoch 30\n",
      "-------------------------------\n",
      "training loss: 0.009701\n",
      "Validation Loss: 0.008712 \n",
      "\n",
      "Epoch 40\n",
      "-------------------------------\n",
      "training loss: 0.009625\n",
      "Validation Loss: 0.008645 \n",
      "\n",
      "Done!\n"
     ]
    },
    {
     "data": {
      "image/png": "[encoded data removed]",
      "text/plain": [
       "<Figure size 400x300 with 1 Axes>"
      ]
     },
     "metadata": {},
     "output_type": "display_data"
    }
   ],
   "source": [
    "model = LocalDnaCnn().to(device)\n",
    "lr = 0.00001\n",
    "optimizer = torch.optim.Adam(model.parameters(), lr=lr)\n",
    "train_model(train_loader, val_loader, model, optimizer, 50, 10)"
   ]
  },
  {
   "cell_type": "markdown",
   "id": "dd08fa91",
   "metadata": {},
   "source": [
    "### Save Model"
   ]
  },
  {
   "cell_type": "code",
   "execution_count": 8,
   "id": "0c4c3967",
   "metadata": {},
   "outputs": [],
   "source": [
    "torch.save(model, \"model.pth\")"
   ]
  },
  {
   "cell_type": "markdown",
   "id": "20ea812b",
   "metadata": {},
   "source": [
    "### Validate Model"
   ]
  },
  {
   "cell_type": "code",
   "execution_count": 9,
   "id": "6328e81d-e169-4bda-88d6-00488285bb6f",
   "metadata": {},
   "outputs": [
    {
     "data": {
      "text/plain": [
       "LocalDnaCnn(\n",
       "  (conv_block): Sequential(\n",
       "    (0): Conv1d(4, 30, kernel_size=(50,), stride=(1,))\n",
       "    (1): ReLU()\n",
       "    (2): Dropout(p=0, inplace=False)\n",
       "    (3): MaxPool1d(kernel_size=2, stride=2, padding=0, dilation=1, ceil_mode=False)\n",
       "    (4): Sequential(\n",
       "      (0): Conv1d(30, 30, kernel_size=(50,), stride=(1,))\n",
       "      (1): ReLU()\n",
       "      (2): Dropout(p=0, inplace=False)\n",
       "    )\n",
       "    (5): Sequential(\n",
       "      (0): Conv1d(30, 30, kernel_size=(50,), stride=(1,))\n",
       "      (1): ReLU()\n",
       "      (2): Dropout(p=0, inplace=False)\n",
       "    )\n",
       "    (6): Sequential(\n",
       "      (0): Conv1d(30, 30, kernel_size=(50,), stride=(1,))\n",
       "      (1): ReLU()\n",
       "      (2): Dropout(p=0, inplace=False)\n",
       "    )\n",
       "  )\n",
       "  (regression_block): Sequential(\n",
       "    (0): Linear(in_features=30, out_features=30, bias=True)\n",
       "    (1): Linear(in_features=30, out_features=3, bias=True)\n",
       "  )\n",
       ")"
      ]
     },
     "execution_count": 9,
     "metadata": {},
     "output_type": "execute_result"
    }
   ],
   "source": [
    "model = torch.load(\"model.pth\", weights_only=False)\n",
    "model.to(device)\n",
    "model.eval()"
   ]
  },
  {
   "cell_type": "code",
   "execution_count": 31,
   "id": "eac9729c-4aac-4009-bd73-7a828921c8f4",
   "metadata": {},
   "outputs": [
    {
     "name": "stdout",
     "output_type": "stream",
     "text": [
      "tensor([0.0009, 0.0004, 0.0006, 0.0006, 0.0009, 0.0004, 0.0007, 0.0010, 0.0009,\n",
      "        0.0005, 0.0006, 0.0003, 0.0001, 0.0000, 0.0006, 0.0007, 0.0003, 0.0004,\n",
      "        0.0009, 0.0005, 0.0005, 0.0007, 0.0007, 0.0013, 0.0013, 0.0008, 0.0011,\n",
      "        0.0005, 0.0007, 0.0003, 0.0010, 0.0010, 0.0003, 0.0014, 0.0008, 0.0007,\n",
      "        0.0017], device='mps:0')\n",
      "tensor([0.0016, 0.0024, 0.0019, 0.0024, 0.0015, 0.0015, 0.0018, 0.0014, 0.0022,\n",
      "        0.0024, 0.0023, 0.0011, 0.0015, 0.0014, 0.0026, 0.0018, 0.0017, 0.0016,\n",
      "        0.0018, 0.0010, 0.0013, 0.0012, 0.0027, 0.0022, 0.0020, 0.0010, 0.0021,\n",
      "        0.0021, 0.0021, 0.0014, 0.0022, 0.0026, 0.0021, 0.0025, 0.0016, 0.0014,\n",
      "        0.0023], device='mps:0', grad_fn=<SelectBackward0>)\n",
      "tensor(0.0072, device='mps:0', grad_fn=<MeanBackward0>)\n"
     ]
    }
   ],
   "source": [
    "X, y = next(iter(test_loader))\n",
    "X = X.to(device)\n",
    "\n",
    "y = y.to(device)\n",
    "y_pred = torch.exp(model.forward(X).to(device))\n",
    "\n",
    "print(y[0])\n",
    "print(y_pred[0])\n",
    "\n",
    "loss_fn = nn.PoissonNLLLoss(log_input=False, full=True)\n",
    "print(loss_fn(y_pred, y))"
   ]
  },
  {
   "cell_type": "code",
   "execution_count": 34,
   "id": "5e3f7220-82c3-49ca-b341-b9d1b9421f88",
   "metadata": {},
   "outputs": [
    {
     "name": "stdout",
     "output_type": "stream",
     "text": [
      "Tissue: Predicted, True\n",
      "0: 0.003, 0.004\n",
      "1: 0.003, 0.000\n",
      "2: 0.003, 0.001\n",
      "3: 0.003, 0.001\n",
      "4: 0.003, 0.004\n",
      "5: 0.002, 0.001\n",
      "6: 0.003, 0.001\n",
      "7: 0.003, 0.004\n",
      "8: 0.002, 0.000\n",
      "9: 0.003, 0.001\n",
      "10: 0.003, 0.001\n",
      "11: 0.002, 0.001\n",
      "12: 0.002, 0.001\n",
      "13: 0.002, 0.000\n",
      "14: 0.003, 0.001\n",
      "15: 0.003, 0.001\n",
      "16: 0.002, 0.001\n",
      "17: 0.002, 0.001\n",
      "18: 0.002, 0.001\n",
      "19: 0.002, 0.002\n",
      "20: 0.002, 0.001\n",
      "21: 0.002, 0.002\n",
      "22: 0.003, 0.000\n",
      "23: 0.003, 0.001\n",
      "24: 0.003, 0.001\n",
      "25: 0.002, 0.002\n",
      "26: 0.002, 0.001\n",
      "27: 0.003, 0.001\n",
      "28: 0.003, 0.001\n",
      "29: 0.002, 0.001\n",
      "30: 0.003, 0.001\n",
      "31: 0.003, 0.001\n",
      "32: 0.003, 0.001\n",
      "33: 0.003, 0.001\n",
      "34: 0.003, 0.004\n",
      "35: 0.002, 0.002\n",
      "36: 0.003, 0.001\n"
     ]
    }
   ],
   "source": [
    "i = 2\n",
    "print('Tissue: Predicted, True')\n",
    "for s, (y_p, y_t) in enumerate(zip(y_pred[i], y[i])):\n",
    "    print(f'{s}: {y_p:.3f}, {y_t:.3f}')"
   ]
  },
  {
   "cell_type": "code",
   "execution_count": 12,
   "id": "87c30ca6-428d-4d21-8b93-989196e9631f",
   "metadata": {},
   "outputs": [
    {
     "name": "stdout",
     "output_type": "stream",
     "text": [
      "Loading sequences from sequences.fasta\n",
      "Loading coverage from SRX391990.faste\n"
     ]
    },
    {
     "ename": "KeyboardInterrupt",
     "evalue": "",
     "output_type": "error",
     "traceback": [
      "\u001b[31m---------------------------------------------------------------------------\u001b[39m",
      "\u001b[31mKeyboardInterrupt\u001b[39m                         Traceback (most recent call last)",
      "\u001b[36mCell\u001b[39m\u001b[36m \u001b[39m\u001b[32mIn[12]\u001b[39m\u001b[32m, line 1\u001b[39m\n\u001b[32m----> \u001b[39m\u001b[32m1\u001b[39m Data = load_data(os.path.join(os.getcwd(), \u001b[33m'\u001b[39m\u001b[33mData\u001b[39m\u001b[33m'\u001b[39m, \u001b[33m'\u001b[39m\u001b[33mParsed_Data\u001b[39m\u001b[33m'\u001b[39m), \n\u001b[32m      2\u001b[39m                  train_val_data_to_load=\u001b[32m1\u001b[39m, \n\u001b[32m      3\u001b[39m                  test_data_to_load=math.inf,\n\u001b[32m      4\u001b[39m                  normalize=normalize,\n\u001b[32m      5\u001b[39m                  faste_files_to_load=faste_files_to_load)\n\u001b[32m      7\u001b[39m training_dataset, validation_dataset, testing_dataset = Data\n",
      "\u001b[36mFile \u001b[39m\u001b[32m~/Documents/CSU/Courses/CS525/CS525Arabidopsis/Load_Data.py:80\u001b[39m, in \u001b[36mload_data\u001b[39m\u001b[34m(data_dir, test_chr, train_val_split, train_val_data_to_load, test_data_to_load, faste_files_to_load, normalize)\u001b[39m\n\u001b[32m     78\u001b[39m \u001b[38;5;28;01mfor\u001b[39;00m i, record \u001b[38;5;129;01min\u001b[39;00m \u001b[38;5;28menumerate\u001b[39m(SeqIO.parse(handle, \u001b[33m\"\u001b[39m\u001b[33mfasta\u001b[39m\u001b[33m\"\u001b[39m)):\n\u001b[32m     79\u001b[39m     \u001b[38;5;28;01mif\u001b[39;00m i \u001b[38;5;129;01min\u001b[39;00m test_indices:\n\u001b[32m---> \u001b[39m\u001b[32m80\u001b[39m         Y0.append(np.array([\u001b[38;5;28meval\u001b[39m(\u001b[38;5;28mstr\u001b[39m(s)) \u001b[38;5;28;01mfor\u001b[39;00m s \u001b[38;5;129;01min\u001b[39;00m record.seq.split(\u001b[33m'\u001b[39m\u001b[33m,\u001b[39m\u001b[33m'\u001b[39m)]))\n\u001b[32m     81\u001b[39m     \u001b[38;5;28;01mif\u001b[39;00m i \u001b[38;5;129;01min\u001b[39;00m train_val_indices:\n\u001b[32m     82\u001b[39m         Y1.append(np.array([\u001b[38;5;28meval\u001b[39m(\u001b[38;5;28mstr\u001b[39m(s)) \u001b[38;5;28;01mfor\u001b[39;00m s \u001b[38;5;129;01min\u001b[39;00m record.seq.split(\u001b[33m'\u001b[39m\u001b[33m,\u001b[39m\u001b[33m'\u001b[39m)]))\n",
      "\u001b[36mFile \u001b[39m\u001b[32m<string>:0\u001b[39m\n",
      "\u001b[31mKeyboardInterrupt\u001b[39m: "
     ]
    }
   ],
   "source": [
    "Data = load_data(os.path.join(os.getcwd(), 'Data', 'Parsed_Data'), \n",
    "                 train_val_data_to_load=1, \n",
    "                 test_data_to_load=math.inf,\n",
    "                 normalize=normalize,\n",
    "                 faste_files_to_load=faste_files_to_load)\n",
    "\n",
    "training_dataset, validation_dataset, testing_dataset = Data\n"
   ]
  },
  {
   "cell_type": "code",
   "execution_count": 29,
   "id": "c9ea7b6e-3d17-451a-8f2c-fbed5f49f78a",
   "metadata": {},
   "outputs": [
    {
     "data": {
      "image/png": "[encoded data removed]",
      "text/plain": [
       "<Figure size 640x480 with 1 Axes>"
      ]
     },
     "metadata": {},
     "output_type": "display_data"
    }
   ],
   "source": [
    "for _, (X, y) in enumerate(test_loader):\n",
    "    X, y = X.to(device), y\n",
    "    y_pred = torch.exp(model(X).to(device))\n",
    "\n",
    "y = torch.flatten(y).cpu().numpy()\n",
    "y_pred = torch.flatten(y_pred).cpu().detach().numpy()\n",
    "pearson_r = np.corrcoef(y, y_pred)[0, 1]\n",
    "\n",
    "plt.scatter(y, y_pred)\n",
    "plt.xlabel(\"Experiment Coverage\")\n",
    "plt.ylabel(\"Predicted Coverage\")\n",
    "plt.title(\"Model Accuracy on Test Set (Chromosome 5)\")\n",
    "plt.text(0.1, 0.9, f\"r = {pearson_r:.2f}\", transform=plt.gca().transAxes)\n",
    "m, b = np.polyfit(y, y_pred, 1)\n",
    "X_plot = np.linspace(plt.gca().get_xlim()[0], plt.gca().get_xlim()[1], 100)\n",
    "plt.plot(X_plot, m * X_plot + b, '-', color='red')\n",
    "plt.show()"
   ]
  },
  {
   "cell_type": "code",
   "execution_count": null,
   "id": "ea6a3061-1217-4ea6-b8d7-eb1146b9f6ea",
   "metadata": {},
   "outputs": [],
   "source": []
  }
 ],
 "metadata": {
  "kernelspec": {
   "display_name": "gp",
   "language": "python",
   "name": "python3"
  },
  "language_info": {
   "codemirror_mode": {
    "name": "ipython",
    "version": 3
   },
   "file_extension": ".py",
   "mimetype": "text/x-python",
   "name": "python",
   "nbconvert_exporter": "python",
   "pygments_lexer": "ipython3",
   "version": "3.12.3"
  }
 },
 "nbformat": 4,
 "nbformat_minor": 5
}
