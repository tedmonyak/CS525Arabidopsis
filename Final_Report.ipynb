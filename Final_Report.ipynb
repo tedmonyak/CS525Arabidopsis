{
 "cells": [
  {
   "cell_type": "markdown",
   "id": "e9000c9a",
   "metadata": {},
   "source": [
    "# CS525 FINAL PROJECT\n",
    "### GROUP MEMBERS: Ted Monyak, Jack Forman\n",
    "\n",
    "\n"
   ]
  },
  {
   "cell_type": "code",
   "execution_count": 1,
   "id": "0da78238",
   "metadata": {},
   "outputs": [],
   "source": [
    "import matplotlib.pyplot as plt\n",
    "import numpy as np\n",
    "import pandas as pd\n",
    "import seaborn as sns\n",
    "import sys\n",
    "import os\n",
    "import json\n"
   ]
  },
  {
   "cell_type": "markdown",
   "id": "21f9d487",
   "metadata": {},
   "source": [
    "# Introduction"
   ]
  },
  {
   "cell_type": "markdown",
   "id": "53ca0069",
   "metadata": {},
   "source": [
    "### Dataset\n",
    "##### Training, Validation, Testing Dataset\n",
    "\n",
    "##### Biological Dataset\n",
    "\n",
    "To examine the biological relevance and generalizability of our models, we curated an additional dataset from [Ensembl Plants](https://ftp.ensemblgenomes.ebi.ac.uk/pub/plants/release-61/fasta/arabidopsis_thaliana/pep/), consisting of approximately 27,000 protein-coding genes from the *Arabidopsis thaliana* genome. The aim of this dataset is to investigate the chromatin accessibility of these genes across various plant tissues. This is biologically significant, as different tissues express distinct sets of proteins, and gene accessibility plays a key regulatory role in this expression. \n",
    "\n",
    "We expect the results to reveal two main patterns:  \n",
    "1. A core set of genes with consistent accessibility across all tissues  \n",
    "2. A set of genes exhibiting tissue-specific accessibility profiles\n",
    "\n"
   ]
  },
  {
   "cell_type": "markdown",
   "id": "f3e491ba",
   "metadata": {},
   "source": [
    "### Model Architectures"
   ]
  },
  {
   "cell_type": "markdown",
   "id": "4f8a5bf7",
   "metadata": {},
   "source": [
    "Several neural network architectures were tested to evaluate their effectiveness in predicting chromatin accessibility. In the simplest case—the **Simple CNN**—a single convolutional layer was followed by a fully connected layer. This minimal architecture offers advantages in terms of interpretability and computational efficiency. However, its simplicity may limit its ability to capture higher-order patterns in the sequence data that could be important for accurately modeling chromatin accessibility.\n",
    "\n",
    "A more complex architecture—the **Deep CNN**—consisted of three convolutional layers followed by three fully connected layers. This model has significantly greater capacity to learn complex features and hierarchical patterns within the sequence data, while still retaining a relatively straightforward structure. Its depth allows it to capture more nuanced relationships that may be missed by simpler model.\n",
    "\n",
    "\n",
    "\n",
    "\n"
   ]
  },
  {
   "cell_type": "markdown",
   "id": "c1947b62",
   "metadata": {},
   "source": [
    "# Methods\n",
    "\n"
   ]
  },
  {
   "cell_type": "markdown",
   "id": "04e11c89",
   "metadata": {},
   "source": [
    "# Results"
   ]
  },
  {
   "cell_type": "markdown",
   "id": "0869dfe9",
   "metadata": {},
   "source": [
    "### Training"
   ]
  },
  {
   "cell_type": "markdown",
   "id": "06e4103c",
   "metadata": {},
   "source": [
    "### Simple CNN\n",
    "<style>\n",
    "img {\n",
    "    display: block;\n",
    "    margin-left: 0;\n",
    "    margin-right: auto;\n",
    "    width: 30%;\n",
    "    height: 30%;\n",
    "}\n",
    "</style>\n",
    "\n",
    "\n",
    "Discussion about training accuracy  \n",
    "![image](Model_SimpleCNN_Best/TrainingAccuracy.png)\n",
    "\n",
    "Discussion about validation accuracy  \n",
    "![image](Model_SimpleCNN_Best/ValAccuracy.png)\n",
    "\n",
    "Discussion about testing accuracy  \n",
    "![image](Model_SimpleCNN_Best/TestingAccuracy.png)"
   ]
  },
  {
   "cell_type": "markdown",
   "id": "c7725993",
   "metadata": {},
   "source": [
    "### Deeper CCN\n",
    "<style>\n",
    "img {\n",
    "    display: block;\n",
    "    margin-left: 0;\n",
    "    margin-right: auto;\n",
    "    width: 30%;\n",
    "    height: 30%;\n",
    "}\n",
    "</style>\n",
    "\n",
    "\n",
    "Discussion about training accuracy  \n",
    "![image](Model_DeepCNN_Best/TrainingAccuracy.png)\n",
    "\n",
    "Discussion about validation accuracy  \n",
    "![image](Model_DeepCNN_Best/ValAccuracy.png)\n",
    "\n",
    "Discussion about testing accuracy  \n",
    "![image](Model_DeepCNN_Best/TestingAccuracy.png)\n"
   ]
  },
  {
   "cell_type": "markdown",
   "id": "72e6f001",
   "metadata": {},
   "source": [
    "### Transformer\n",
    "<style>\n",
    "img {\n",
    "    display: block;\n",
    "    margin-left: 0;\n",
    "    margin-right: auto;\n",
    "    width: 30%;\n",
    "    height: 30%;\n",
    "}\n",
    "</style>\n",
    "Discussion about training accuracy ![image](Model_DNATranformer_Best/TrainingAccuracy.png) \n",
    "Discussion about validation accuracy ![image](Model_DNATranformer_Best/ValAccuracy.png) \n",
    "Discussion about testing accuracy ![image](Model_DNATranformer_Best/TestingAccuracy.png)\n"
   ]
  },
  {
   "cell_type": "markdown",
   "id": "18e63492",
   "metadata": {},
   "source": [
    "### Filters"
   ]
  },
  {
   "cell_type": "markdown",
   "id": "f4a4b1f5",
   "metadata": {},
   "source": [
    "### Gene differnece in Tissues"
   ]
  },
  {
   "cell_type": "markdown",
   "id": "ee5e59bd",
   "metadata": {},
   "source": [
    "# Discussion"
   ]
  },
  {
   "cell_type": "markdown",
   "id": "83ef899e",
   "metadata": {},
   "source": []
  }
 ],
 "metadata": {
  "kernelspec": {
   "display_name": "Python 3 (ipykernel)",
   "language": "python",
   "name": "python3"
  }
 },
 "nbformat": 4,
 "nbformat_minor": 5
}
