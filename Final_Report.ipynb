{
 "cells": [
  {
   "cell_type": "markdown",
   "id": "e9000c9a",
   "metadata": {},
   "source": [
    "# CS525 FINAL PROJECT\n",
    "### GROUP MEMBERS: Ted Monyak, Jack Forman\n",
    "\n",
    "\n"
   ]
  },
  {
   "cell_type": "code",
   "execution_count": 1,
   "id": "0da78238",
   "metadata": {},
   "outputs": [],
   "source": [
    "import matplotlib.pyplot as plt\n",
    "import numpy as np\n",
    "import pandas as pd\n",
    "import seaborn as sns\n",
    "import sys\n",
    "import os\n",
    "import json\n",
    "\n",
    "simplecnnDir = os.path.join(os.getcwd(), 'Model_SimpleCNN_Best')\n",
    "deepcnnDir = os.path.join(os.getcwd(), 'Model_DeepCNN_Best')\n",
    "transformerDir = os.path.join(os.getcwd(), 'Model_DNATransformer_Best')\n",
    "\n",
    "dirs = [simplecnnDir, deepcnnDir, transformerDir]"
   ]
  },
  {
   "cell_type": "markdown",
   "id": "21f9d487",
   "metadata": {},
   "source": [
    "# Introduction"
   ]
  },
  {
   "cell_type": "markdown",
   "id": "53ca0069",
   "metadata": {},
   "source": [
    "### Dataset\n",
    "##### Training, Validation, Testing Dataset\n",
    "\n",
    "##### Biological Dataset\n",
    "\n",
    "To examine the biological relevance and generalizability of our models, we curated an additional dataset from [Ensembl Plants](https://ftp.ensemblgenomes.ebi.ac.uk/pub/plants/release-61/fasta/arabidopsis_thaliana/pep/), consisting of approximately 27,000 protein-coding genes from the *Arabidopsis thaliana* genome. The aim of this dataset is to investigate the chromatin accessibility of these genes across various plant tissues. This is biologically significant, as different tissues express distinct sets of proteins, and gene accessibility plays a key regulatory role in this expression. \n",
    "\n",
    "We expect the results to reveal two main patterns:  \n",
    "1. A core set of genes with consistent accessibility across all tissues  \n",
    "2. A set of genes exhibiting tissue-specific accessibility profiles\n",
    "\n"
   ]
  },
  {
   "cell_type": "markdown",
   "id": "f3e491ba",
   "metadata": {},
   "source": [
    "### Model Architectures"
   ]
  },
  {
   "cell_type": "markdown",
   "id": "4f8a5bf7",
   "metadata": {},
   "source": [
    "Several neural network architectures were tested to evaluate their effectiveness in predicting chromatin accessibility. In the simplest case—the **Simple CNN**—a single convolutional layer was followed by a fully connected layer. This minimal architecture offers advantages in terms of interpretability and computational efficiency. However, its simplicity may limit its ability to capture higher-order patterns in the sequence data that could be important for accurately modeling chromatin accessibility.\n",
    "\n",
    "A more complex architecture—the **Deep CNN**—consisted of three convolutional layers followed by three fully connected layers. This model has significantly greater capacity to learn complex features and hierarchical patterns within the sequence data, while still retaining a relatively straightforward structure. Its depth allows it to capture more nuanced relationships that may be missed by simpler model.\n",
    "\n",
    "The final architecture explored was a simple transformer-based model, referred to as the **DNA Transformer**. It consisted of three convolutional layers followed by a transformer block, which was then connected to a single linear output layer. This architecture is designed to capture both local and global patterns in the sequence data. The convolutional layers help extract localized features, while the transformer enables the model to learn long-range dependencies and higher-order structures that may be critical for understanding chromatin accessibility.\n",
    "\n",
    "All of the source code for these models can be seen in SRC/Models\n",
    "\n"
   ]
  },
  {
   "cell_type": "markdown",
   "id": "c1947b62",
   "metadata": {},
   "source": [
    "# Methods\n",
    "\n"
   ]
  },
  {
   "cell_type": "markdown",
   "id": "04e11c89",
   "metadata": {},
   "source": [
    "# Results"
   ]
  },
  {
   "cell_type": "markdown",
   "id": "0869dfe9",
   "metadata": {},
   "source": [
    "### Training\n",
    "\n"
   ]
  },
  {
   "cell_type": "markdown",
   "id": "149b4af1",
   "metadata": {},
   "source": []
  },
  {
   "cell_type": "code",
   "execution_count": null,
   "id": "29692f24",
   "metadata": {},
   "outputs": [],
   "source": [
    "fig, ax = plt.subplots(nrow=1, ncol=3, figsize=(10, 6))\n",
    "\n",
    "for i, dir in enumerate(dirs):\n",
    "    with open(os.path.join(dir, 'losses.json'), 'r') as f:\n",
    "        losses = json.load(f)\n",
    "        train_loss = losses['train_loss']\n",
    "        val_loss = losses['validation_loss']\n",
    "        epochs = len(train_loss)\n",
    "        ax[i].plot(range(1, epochs + 1), train_loss, label='Train Loss', color='blue')\n",
    "        ax[i].plot(range(1, epochs + 1), val_loss, label='Validation Loss', color='orange')\n",
    "        ax[i].set_title(os.path.basename(dir))\n",
    "        ax[i].set_xlabel('Epochs')\n",
    "        ax[i].set_ylabel('Loss')\n",
    "        ax[i].legend()\n",
    "plt.show()\n",
    "\n",
    "\n",
    "        "
   ]
  },
  {
   "cell_type": "markdown",
   "id": "06e4103c",
   "metadata": {},
   "source": [
    "### Simple CNN\n",
    "<style>\n",
    "img {\n",
    "    display: block;\n",
    "    margin-left: 0;\n",
    "    margin-right: auto;\n",
    "    width: 30%;\n",
    "    height: 30%;\n",
    "}\n",
    "</style>\n",
    "\n",
    "\n",
    "The accuracy graphs provide insight into how well each model learns and generalizes to the data. Accuracy evaluated on the training set shows that the models are learning meaningful patterns without simply memorizing the data, as evidenced by their predictions not perfectly following the *y = x* line which would indicate overfitting and perfect recall of the training data. This diagonal line represents ideal predictions with perfect knowledge of the input-output relationship.\n",
    "\n",
    "In addition, the Pearson correlation coefficient is used to assess how well the predicted values correlate with the experimental (ground truth) data. A value of 1 indicates perfect linear correlation.\n",
    "\n",
    "Among the models, the **Simple CNN** performs worse on the training data compared to more complex architectures. However, it shows strong generalization to both the validation and testing datasets, suggesting that its simplicity helps prevent overfitting and allows it to capture robust, generalizable features.\n",
    "\n",
    "![image](Model_SimpleCNN_Best/TrainingAccuracy.png)\n",
    "\n",
    "![image](Model_SimpleCNN_Best/ValAccuracy.png)\n",
    " \n",
    "![image](Model_SimpleCNN_Best/TestingAccuracy.png)"
   ]
  },
  {
   "cell_type": "markdown",
   "id": "c7725993",
   "metadata": {},
   "source": [
    "### Deeper CCN\n",
    "<style>\n",
    "img {\n",
    "    display: block;\n",
    "    margin-left: 0;\n",
    "    margin-right: auto;\n",
    "    width: 30%;\n",
    "    height: 30%;\n",
    "}\n",
    "</style>\n",
    "\n",
    "\n",
    "\n",
    "![image](Model_DeepCNN_Best/TrainingAccuracy.png)\n",
    "![image](Model_DeepCNN_Best/ValAccuracy.png)\n",
    "![image](Model_DeepCNN_Best/TestingAccuracy.png)\n"
   ]
  },
  {
   "cell_type": "markdown",
   "id": "72e6f001",
   "metadata": {},
   "source": [
    "### DNA Transformer\n",
    "<style>\n",
    "img {\n",
    "    display: block;\n",
    "    margin-left: 0;\n",
    "    margin-right: auto;\n",
    "    width: 30%;\n",
    "    height: 30%;\n",
    "}\n",
    "</style>\n",
    "Discussion about training accuracy ![image](Model_DNATranformer_Best/TrainingAccuracy.png) \n",
    "Discussion about validation accuracy ![image](Model_DNATranformer_Best/ValAccuracy.png) \n",
    "Discussion about testing accuracy ![image](Model_DNATranformer_Best/TestingAccuracy.png)\n"
   ]
  },
  {
   "cell_type": "markdown",
   "id": "18e63492",
   "metadata": {},
   "source": [
    "### Filters"
   ]
  },
  {
   "cell_type": "markdown",
   "id": "f4a4b1f5",
   "metadata": {},
   "source": [
    "### Gene differnece in Tissues"
   ]
  },
  {
   "cell_type": "markdown",
   "id": "44c11c62",
   "metadata": {},
   "source": [
    "<style>\n",
    "img {\n",
    "    display: block;\n",
    "    margin-left: 0;\n",
    "    margin-right: auto;\n",
    "    width: 80%;\n",
    "    height: 30%;\n",
    "}\n",
    "</style>\n",
    "\n",
    "\n",
    "\n",
    "![image](AccessibilityHeatmap.png) "
   ]
  },
  {
   "cell_type": "markdown",
   "id": "ee5e59bd",
   "metadata": {},
   "source": [
    "# Discussion"
   ]
  },
  {
   "cell_type": "markdown",
   "id": "83ef899e",
   "metadata": {},
   "source": []
  }
 ],
 "metadata": {
  "kernelspec": {
   "display_name": "Python 3 (ipykernel)",
   "language": "python",
   "name": "python3"
  }
 },
 "nbformat": 4,
 "nbformat_minor": 5
}
