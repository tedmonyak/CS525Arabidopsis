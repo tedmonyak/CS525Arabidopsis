{
 "cells": [
  {
   "cell_type": "markdown",
   "id": "e9000c9a",
   "metadata": {},
   "source": [
    "# CS525 FINAL PROJECT\n",
    "### GROUP MEMBERS: Ted Monyak, Jack Forman\n",
    "\n",
    "\n"
   ]
  },
  {
   "cell_type": "code",
   "execution_count": 1,
   "id": "0da78238",
   "metadata": {},
   "outputs": [],
   "source": [
    "import matplotlib.pyplot as plt\n",
    "import numpy as np\n",
    "import pandas as pd\n",
    "import seaborn as sns\n",
    "import sys\n",
    "import os\n"
   ]
  },
  {
   "cell_type": "markdown",
   "id": "21f9d487",
   "metadata": {},
   "source": [
    "# Introduction"
   ]
  },
  {
   "cell_type": "markdown",
   "id": "53ca0069",
   "metadata": {},
   "source": [
    "### Dataset"
   ]
  },
  {
   "cell_type": "markdown",
   "id": "f3e491ba",
   "metadata": {},
   "source": [
    "### Networks"
   ]
  },
  {
   "cell_type": "markdown",
   "id": "c1947b62",
   "metadata": {},
   "source": [
    "# Methods\n",
    "\n"
   ]
  },
  {
   "cell_type": "markdown",
   "id": "04e11c89",
   "metadata": {},
   "source": [
    "# Results"
   ]
  },
  {
   "cell_type": "markdown",
   "id": "0869dfe9",
   "metadata": {},
   "source": [
    "### Training"
   ]
  },
  {
   "cell_type": "markdown",
   "id": "06e4103c",
   "metadata": {},
   "source": [
    "### Simple CNN\n",
    "<style>\n",
    "img {\n",
    "    display: block;\n",
    "    margin-left: 0;\n",
    "    margin-right: auto;\n",
    "    width: 30%;\n",
    "    height: 30%;\n",
    "}\n",
    "</style>\n",
    "\n",
    "\n",
    "Discussion about training accuracy  \n",
    "![image](Model_SimpleCNN_Best/TestingAccuracy.png)\n",
    "\n",
    "Discussion about validation accuracy  \n",
    "![image](Model_SimpleCNN_Best/ValAccuracy.png)\n",
    "\n",
    "Discussion about testing accuracy  \n",
    "![image](Model_SimpleCNN_Best/TestingAccuracy.png)"
   ]
  },
  {
   "cell_type": "markdown",
   "id": "c7725993",
   "metadata": {},
   "source": [
    "### Deeper CCN\n",
    "<style>\n",
    "img {\n",
    "    display: block;\n",
    "    margin-left: 0;\n",
    "    margin-right: auto;\n",
    "    width: 30%;\n",
    "    height: 30%;\n",
    "}\n",
    "</style>\n",
    "\n",
    "\n",
    "Discussion about training accuracy  \n",
    "![image](Model_DeepCNN_Best/TrainingAccuracy.png)\n",
    "\n",
    "Discussion about validation accuracy  \n",
    "![image](Model_DeepCNN_Best/ValAccuracy.png)\n",
    "\n",
    "Discussion about testing accuracy  \n",
    "![image](Model_DeepCNN_Best/TestingAccuracy.png)\n"
   ]
  },
  {
   "cell_type": "markdown",
   "id": "72e6f001",
   "metadata": {},
   "source": [
    "### Transformer\n",
    "<style>\n",
    "img {\n",
    "    display: block;\n",
    "    margin-left: 0;\n",
    "    margin-right: auto;\n",
    "    width: 30%;\n",
    "    height: 30%;\n",
    "}\n",
    "</style>\n",
    "Discussion about training accuracy ![image](Model_DNATranformer_Best/TrainingAccuracy.png) \n",
    "Discussion about validation accuracy ![image](Model_DNATranformer_Best/ValAccuracy.png) \n",
    "Discussion about testing accuracy ![image](Model_DNATranformer_Best/TestingAccuracy.png)\n"
   ]
  },
  {
   "cell_type": "markdown",
   "id": "18e63492",
   "metadata": {},
   "source": [
    "### Filters"
   ]
  },
  {
   "cell_type": "markdown",
   "id": "f4a4b1f5",
   "metadata": {},
   "source": [
    "### Gene differnece in Tissues"
   ]
  },
  {
   "cell_type": "markdown",
   "id": "ee5e59bd",
   "metadata": {},
   "source": [
    "# Discussion"
   ]
  },
  {
   "cell_type": "markdown",
   "id": "83ef899e",
   "metadata": {},
   "source": []
  }
 ],
 "metadata": {
  "kernelspec": {
   "display_name": "Python 3 (ipykernel)",
   "language": "python",
   "name": "python3"
  },
  "language_info": {
   "codemirror_mode": {
    "name": "ipython",
    "version": 3
   },
   "file_extension": ".py",
   "mimetype": "text/x-python",
   "name": "python",
   "nbconvert_exporter": "python",
   "pygments_lexer": "ipython3",
   "version": "3.12.2"
  }
 },
 "nbformat": 4,
 "nbformat_minor": 5
}
