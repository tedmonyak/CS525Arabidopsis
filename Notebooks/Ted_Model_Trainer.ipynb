{
 "cells": [
  {
   "cell_type": "code",
   "execution_count": null,
   "id": "481260f0",
   "metadata": {},
   "outputs": [
    {
     "ename": "ModuleNotFoundError",
     "evalue": "No module named 'Load_Data'",
     "output_type": "error",
     "traceback": [
      "\u001b[31m---------------------------------------------------------------------------\u001b[39m",
      "\u001b[31mModuleNotFoundError\u001b[39m                       Traceback (most recent call last)",
      "\u001b[36mCell\u001b[39m\u001b[36m \u001b[39m\u001b[32mIn[3]\u001b[39m\u001b[32m, line 11\u001b[39m\n\u001b[32m      7\u001b[39m \u001b[38;5;28;01mimport\u001b[39;00m\u001b[38;5;250m \u001b[39m\u001b[34;01mmatplotlib\u001b[39;00m\u001b[34;01m.\u001b[39;00m\u001b[34;01mpyplot\u001b[39;00m\u001b[38;5;250m \u001b[39m\u001b[38;5;28;01mas\u001b[39;00m\u001b[38;5;250m \u001b[39m\u001b[34;01mplt\u001b[39;00m\n\u001b[32m      9\u001b[39m \u001b[38;5;28;01mimport\u001b[39;00m\u001b[38;5;250m \u001b[39m\u001b[34;01mnumpy\u001b[39;00m\u001b[38;5;250m \u001b[39m\u001b[38;5;28;01mas\u001b[39;00m\u001b[38;5;250m \u001b[39m\u001b[34;01mnp\u001b[39;00m\n\u001b[32m---> \u001b[39m\u001b[32m11\u001b[39m \u001b[38;5;28;01mfrom\u001b[39;00m\u001b[38;5;250m \u001b[39m\u001b[34;01mLoad_Data\u001b[39;00m\u001b[38;5;250m \u001b[39m\u001b[38;5;28;01mimport\u001b[39;00m load_data\n\u001b[32m     13\u001b[39m device = (\n\u001b[32m     14\u001b[39m     \u001b[33m\"\u001b[39m\u001b[33mmps\u001b[39m\u001b[33m\"\u001b[39m\n\u001b[32m     15\u001b[39m     \u001b[38;5;28;01mif\u001b[39;00m torch.backends.mps.is_available()\n\u001b[32m   (...)\u001b[39m\u001b[32m     18\u001b[39m     \u001b[38;5;28;01melse\u001b[39;00m \u001b[33m\"\u001b[39m\u001b[33mcpu\u001b[39m\u001b[33m\"\u001b[39m\n\u001b[32m     19\u001b[39m )\n\u001b[32m     20\u001b[39m device = torch.device(device)\n",
      "\u001b[31mModuleNotFoundError\u001b[39m: No module named 'Load_Data'"
     ]
    }
   ],
   "source": [
    "import torch\n",
    "from torch import nn\n",
    "#import torch.optim.lr_scheduler.StepLR\n",
    "from torch.utils.data import DataLoader\n",
    "import os\n",
    "import math\n",
    "import matplotlib.pyplot as plt\n",
    "\n",
    "import numpy as np\n",
    "\n",
    "from src import get_data_loaders\n",
    "\n",
    "device = (\n",
    "    \"mps\"\n",
    "    if torch.backends.mps.is_available()\n",
    "    else \"cuda\"\n",
    "    if torch.cuda.is_available()\n",
    "    else \"cpu\"\n",
    ")\n",
    "device = torch.device(device)\n",
    "print(f\"Using {device} device\")"
   ]
  },
  {
   "cell_type": "markdown",
   "id": "b410bb37",
   "metadata": {},
   "source": [
    "# Load Data"
   ]
  },
  {
   "cell_type": "code",
   "execution_count": null,
   "id": "52960819",
   "metadata": {},
   "outputs": [
    {
     "name": "stdout",
     "output_type": "stream",
     "text": [
      "Loading sequences from sequences.fasta\n",
      "Loading coverage from SRX391990.faste\n",
      "Loading coverage from SRX9770779.faste\n",
      "Loading coverage from SRX9770784.faste\n",
      "Loading coverage from SRX9770786.faste\n",
      "Loading coverage from SRX391992.faste\n",
      "Loading coverage from SRX391996.faste\n",
      "Loading coverage from SRX9770782.faste\n",
      "Loading coverage from SRX1098138.faste\n",
      "Loading coverage from SRX9770780.faste\n",
      "Loading coverage from SRX391994.faste\n",
      "Loading coverage from SRX9770787.faste\n",
      "Loading coverage from SRX391993.faste\n",
      "Loading coverage from SRX9770778.faste\n",
      "Loading coverage from SRX391991.faste\n",
      "Loading coverage from SRX9770785.faste\n",
      "Loading coverage from SRX9770781.faste\n",
      "Loading coverage from SRX391995.faste\n",
      "Loading coverage from SRX391997.faste\n",
      "Loading coverage from SRX9770783.faste\n",
      "Loading coverage from SRX1098137.faste\n",
      "Loading coverage from SRX1098135.faste\n",
      "Loading coverage from SRX1096550.faste\n",
      "Loading coverage from SRX9770774.faste\n",
      "Loading coverage from SRX9770789.faste\n",
      "Loading coverage from SRX9770790.faste\n",
      "Loading coverage from SRX1096549.faste\n",
      "Loading coverage from SRX9770792.faste\n",
      "Loading coverage from SRX9770776.faste\n",
      "Loading coverage from SRX9770773.faste\n",
      "Loading coverage from SRX1098136.faste\n",
      "Loading coverage from SRX9770793.faste\n",
      "Loading coverage from SRX9770777.faste\n",
      "Loading coverage from SRX9770775.faste\n",
      "Loading coverage from SRX9770788.faste\n",
      "Loading coverage from SRX1096551.faste\n",
      "Loading coverage from SRX1096548.faste\n",
      "Loading coverage from SRX9770791.faste\n",
      "Done Loading Data\n"
     ]
    }
   ],
   "source": [
    "def get_data_loaders(batch_size=64, faste_files_to_load=37, normalize=False):\n",
    "    Data = load_data(data_dir=os.path.join(os.getcwd(), 'Data', 'Parsed_Data_Window'), \n",
    "                     train_val_data_to_load=math.inf,\n",
    "                     test_data_to_load=math.inf,\n",
    "                     faste_files_to_load=faste_files_to_load,\n",
    "                     normalize=normalize)\n",
    "    \n",
    "    training_dataset, validation_dataset, testing_dataset = Data\n",
    "\n",
    "    train_loader = DataLoader(dataset=training_dataset,\n",
    "                              batch_size=batch_size,shuffle=True)\n",
    "    val_loader = DataLoader(dataset=validation_dataset,\n",
    "                              batch_size=batch_size,shuffle=True)\n",
    "    test_loader = DataLoader(dataset=testing_dataset,\n",
    "                              batch_size=batch_size,shuffle=True)\n",
    "    return train_loader, val_loader, test_loader\n",
    "data_dir=os.path.join(os.getcwd(), 'Data', 'Parsed_Data_Window'), \n",
    "train_val_data_to_load=math.inf,\n",
    "test_data_to_load=math.inf,\n",
    "faste_files_to_load = 37\n",
    "normalize = False\n",
    "batch_size = 64\n",
    "train_loader, val_loader, test_loader = get_data_loaders(\n",
    "    data_dir, train_val_data_to_load, test_data_to_load, batch_size, faste_files_to_load, normalize=normalize)"
   ]
  },
  {
   "cell_type": "code",
   "execution_count": 46,
   "id": "3795ef53",
   "metadata": {},
   "outputs": [
    {
     "data": {
      "text/plain": [
       "(tensor([[1., 0., 0.,  ..., 0., 0., 0.],\n",
       "         [0., 0., 1.,  ..., 0., 1., 0.],\n",
       "         [0., 1., 0.,  ..., 0., 0., 1.],\n",
       "         [0., 0., 0.,  ..., 1., 0., 0.]]),\n",
       " tensor([1.2548, 2.0942, 1.4883, 1.7982, 0.5817, 0.5548, 1.5211, 0.8783, 1.7505,\n",
       "         1.2289, 1.8659, 0.8245, 1.4520, 1.1258, 1.8503, 1.4945, 0.7435, 0.6928,\n",
       "         1.6268, 0.6366, 1.0402, 0.5742, 1.7171, 1.7846, 1.8448, 0.7149, 1.7520,\n",
       "         1.7265, 1.6318, 1.0302, 2.2192, 1.8422, 1.4580, 1.8389, 1.2955, 0.6358,\n",
       "         1.7055]))"
      ]
     },
     "execution_count": 46,
     "metadata": {},
     "output_type": "execute_result"
    }
   ],
   "source": [
    "train_loader.dataset[10000]"
   ]
  },
  {
   "cell_type": "markdown",
   "id": "2c018f0a",
   "metadata": {},
   "source": [
    "# Build Model"
   ]
  },
  {
   "cell_type": "code",
   "execution_count": null,
   "id": "fa21dde3",
   "metadata": {},
   "outputs": [],
   "source": [
    "class SimpleCNN(nn.Module):\n",
    "    def __init__(self, num_kernels=[1024, 512, 256], kernel_size=[512,256,128],\n",
    "                 dropout=0):\n",
    "        super(SimpleCNN, self).__init__()\n",
    "        self.input_channels=4\n",
    "        self.num_kernels=num_kernels\n",
    "        self.kernel_size=kernel_size\n",
    "        self.dropout=dropout\n",
    "        self.conv_block = nn.Sequential(\n",
    "            # first layer\n",
    "            nn.Conv1d(in_channels=self.input_channels,\n",
    "                      out_channels=num_kernels[0],\n",
    "                      kernel_size=kernel_size[0]),\n",
    "            nn.ReLU(),\n",
    "            nn.Dropout(self.dropout),\n",
    "            nn.MaxPool1d(kernel_size=2),\n",
    "        )\n",
    "        self.regression_block = nn.Sequential(\n",
    "            nn.Linear(num_kernels[0], 37),\n",
    "            nn.ReLU(),  # ReLU ensures positive outputs\n",
    "            # nn.LogSoftmax(dim=1)  # Apply log softmax if necessary for your task\n",
    "        )  \n",
    "\n",
    "    def forward(self, x):\n",
    "        x = self.conv_block(x)\n",
    "        x,_ = torch.max(x, dim=2)        \n",
    "        x = self.regression_block(x)\n",
    "        return x"
   ]
  },
  {
   "cell_type": "markdown",
   "id": "cefed180",
   "metadata": {},
   "source": [
    "## Local Model"
   ]
  },
  {
   "cell_type": "code",
   "execution_count": null,
   "id": "fbdc181c-212d-4994-9ab4-acc2ca3a044a",
   "metadata": {},
   "outputs": [],
   "source": [
    "class LocalDnaCnn(nn.Module):\n",
    "    def __init__(self, num_kernels=[256, 128, 64, 16], kernel_size=[16,24,48,10],\n",
    "                 dropout=0, transformer_heads=4, transformer_layers=3):\n",
    "        super(LocalDnaCnn, self).__init__()\n",
    "        self.input_channels=4\n",
    "        self.num_kernels=num_kernels\n",
    "        self.kernel_size=kernel_size\n",
    "        self.dropout=dropout\n",
    "        self.transformer_heads=transformer_heads\n",
    "        self.transformer_layers=transformer_layers\n",
    "        self.conv_block = nn.Sequential(\n",
    "            # first layer\n",
    "            nn.Conv1d(in_channels=self.input_channels,\n",
    "                      out_channels=num_kernels[0],\n",
    "                      kernel_size=kernel_size[0]),\n",
    "            nn.ReLU(),\n",
    "            nn.Dropout(self.dropout),\n",
    "            nn.MaxPool1d(kernel_size=2),\n",
    "        )\n",
    "        # second layer\n",
    "        self.conv_block.append(nn.Sequential(\n",
    "            nn.Conv1d(in_channels=self.num_kernels[0],\n",
    "                      out_channels=num_kernels[1],\n",
    "                      kernel_size=kernel_size[1]),\n",
    "            #nn.BatchNorm1d(num_features=num_kernels[1]),\n",
    "            nn.ReLU(),\n",
    "            nn.Dropout(p=self.dropout),   \n",
    "            nn.MaxPool1d(kernel_size=2),        \n",
    "        ))\n",
    "        # Add a third convolutional layer\n",
    "        self.conv_block.append(nn.Sequential(\n",
    "            # second layer\n",
    "            nn.Conv1d(in_channels=self.num_kernels[1],\n",
    "                      out_channels=num_kernels[2],\n",
    "                      kernel_size=kernel_size[2]),\n",
    "            #nn.BatchNorm1d(num_features=num_kernels[2]),\n",
    "            nn.ReLU(),\n",
    "            nn.Dropout(p=self.dropout),   \n",
    "            nn.MaxPool1d(kernel_size=2),  \n",
    "        ))\n",
    "        # Add a fourth convolutional layer\n",
    "        #self.conv_block.append(nn.Sequential(\n",
    "        #    nn.Conv1d(in_channels=self.num_kernels[2],\n",
    "        #              out_channels=num_kernels[3],\n",
    "        #              kernel_size=kernel_size[3]),\n",
    "        #    nn.ReLU(),\n",
    "        #    nn.Dropout(p=self.dropout),         \n",
    "        #))\n",
    "\n",
    "        # the transformer is a combo of multiple encoder layers\n",
    "        self.transformer = nn.TransformerEncoder(\n",
    "            nn.TransformerEncoderLayer(num_kernels[2],\n",
    "                                       nhead=self.transformer_heads,\n",
    "                                       dim_feedforward=num_kernels[2]*2),\n",
    "                                       self.transformer_layers)\n",
    "        self.attention_weights = None  # Store attention weights\n",
    "        self.regression_block = nn.Sequential(\n",
    "            nn.Linear(num_kernels[2], num_kernels[2]),\n",
    "            nn.Linear(num_kernels[2], faste_files_to_load),\n",
    "            #nn.ReLU(),  # ReLU ensures positive outputs\n",
    "        ) \n",
    "\n",
    "    def forward(self, x):\n",
    "        x = self.conv_block(x)\n",
    "        x,_ = torch.max(x, dim=2)  \n",
    "        x = self.transformer(x)      \n",
    "        x = self.regression_block(x)\n",
    "        return x"
   ]
  },
  {
   "cell_type": "markdown",
   "id": "524a327e",
   "metadata": {},
   "source": [
    "# Train Model"
   ]
  },
  {
   "cell_type": "markdown",
   "id": "78d9bd1a",
   "metadata": {},
   "source": [
    "### Training functions"
   ]
  },
  {
   "cell_type": "code",
   "execution_count": 49,
   "id": "71beb2c3",
   "metadata": {},
   "outputs": [],
   "source": [
    "def train_epoch(dataloader, model, loss_fn, optimizer, epoch):\n",
    "    size = len(dataloader)\n",
    "    num_batches = len(dataloader)\n",
    "    total_loss = 0\n",
    "    # set the model to training mode - important when you have \n",
    "    # batch normalization and dropout layers\n",
    "    model.train()\n",
    "    for batch_idx, (X, y) in enumerate(dataloader):\n",
    "        X, y = X.to(device), y.to(device)\n",
    "        optimizer.zero_grad()\n",
    "        # Compute prediction and loss\n",
    "        y_pred = model(X)\n",
    "        loss = loss_fn(y_pred, y)\n",
    "        # backpropagation\n",
    "        loss.backward()\n",
    "        optimizer.step()\n",
    "        total_loss += loss.item()\n",
    "    if epoch % 10 == 0 :\n",
    "        print(f\"training loss: {total_loss/num_batches:>7f}\")\n",
    "    return total_loss / num_batches\n",
    "\n",
    "def validation(dataloader, model, loss_fn, epoch):\n",
    "    # set the model to evaluation mode \n",
    "    model.eval()\n",
    "    # size of dataset\n",
    "    size = len(dataloader.dataset)\n",
    "    num_batches = len(dataloader)\n",
    "    validation_loss = 0\n",
    "    # Evaluating the model with torch.no_grad() ensures that no gradients \n",
    "    # are computed during test mode\n",
    "    # also serves to reduce unnecessary gradient computations and memory usage \n",
    "    # for tensors with requires_grad=True\n",
    "    with torch.no_grad():\n",
    "        for X, y in dataloader:\n",
    "            X, y = X.to(device), y.to(device)\n",
    "            y_pred = model(X)\n",
    "            validation_loss += loss_fn(y_pred, y).item()\n",
    "    validation_loss /= num_batches\n",
    "    if epoch%10 == 0 :\n",
    "        print(f\"Validation Loss: {validation_loss:>8f} \\n\")\n",
    "    return validation_loss\n",
    "\n",
    "def train_model(train_loader, val_loader, model, optimizer, loss_fn, epochs, overfit_ratio=0.85):\n",
    "\n",
    "    train_loss = []\n",
    "    validation_loss = []\n",
    "    for t in range(epochs):\n",
    "        if t % 1 == 0 :\n",
    "            print(f\"Epoch {t}\\n-------------------------------\")\n",
    "        loss = train_epoch(train_loader, model, loss_fn, optimizer, t)\n",
    "        train_loss.append(loss)\n",
    "        loss = validation(val_loader, model, loss_fn, t)\n",
    "        validation_loss.append(loss)\n",
    "    \n",
    "        if train_loss[-1] < validation_loss[-1]:\n",
    "            # print(f\"Training loss {train_loss[-1]} is less than validation loss {validation_loss[-1]}\")\n",
    "\n",
    "            if train_loss[-1]/validation_loss[-1] < 0.80:\n",
    "                print(f\"Training loss {train_loss[-1]} is well below validation loss {validation_loss[-1]}\")\n",
    "                \n",
    "    print(\"Done!\")\n",
    "\n",
    "    def plot_loss(train_loss, validation_loss):\n",
    "        plt.figure(figsize=(4,3))\n",
    "        plt.plot(np.arange(len(train_loss)), train_loss, label='Training')\n",
    "        plt.plot(np.arange(len(validation_loss)), validation_loss, label='Validation')\n",
    "        plt.xlabel('Epoch')\n",
    "        plt.ylabel('Loss')\n",
    "        plt.legend()\n",
    "        # plt.savefig('')\n",
    "        plt.show()\n",
    "    plot_loss(train_loss, validation_loss)\n"
   ]
  },
  {
   "cell_type": "markdown",
   "id": "4196cdfa",
   "metadata": {},
   "source": [
    "### Train"
   ]
  },
  {
   "cell_type": "code",
   "execution_count": 50,
   "id": "6f6b9d5d",
   "metadata": {},
   "outputs": [
    {
     "name": "stderr",
     "output_type": "stream",
     "text": [
      "/Users/tedmonyak/miniconda3/envs/gp/lib/python3.12/site-packages/torch/nn/modules/transformer.py:379: UserWarning: enable_nested_tensor is True, but self.use_nested_tensor is False because encoder_layer.self_attn.batch_first was not True(use batch_first for better inference performance)\n",
      "  warnings.warn(\n"
     ]
    },
    {
     "name": "stdout",
     "output_type": "stream",
     "text": [
      "Epoch 0\n",
      "-------------------------------\n",
      "training loss: 0.911828\n",
      "Validation Loss: 0.886455 \n",
      "\n",
      "Epoch 1\n",
      "-------------------------------\n",
      "Epoch 2\n",
      "-------------------------------\n",
      "Epoch 3\n",
      "-------------------------------\n",
      "Epoch 4\n",
      "-------------------------------\n",
      "Epoch 5\n",
      "-------------------------------\n",
      "Epoch 6\n",
      "-------------------------------\n",
      "Epoch 7\n",
      "-------------------------------\n",
      "Epoch 8\n",
      "-------------------------------\n",
      "Epoch 9\n",
      "-------------------------------\n",
      "Epoch 10\n",
      "-------------------------------\n",
      "training loss: 0.832989\n",
      "Validation Loss: 0.850878 \n",
      "\n",
      "Epoch 11\n",
      "-------------------------------\n",
      "Epoch 12\n",
      "-------------------------------\n",
      "Epoch 13\n",
      "-------------------------------\n",
      "Epoch 14\n",
      "-------------------------------\n",
      "Epoch 15\n",
      "-------------------------------\n",
      "Epoch 16\n",
      "-------------------------------\n",
      "Epoch 17\n",
      "-------------------------------\n",
      "Epoch 18\n",
      "-------------------------------\n",
      "Epoch 19\n",
      "-------------------------------\n",
      "Epoch 20\n",
      "-------------------------------\n",
      "training loss: 0.815505\n",
      "Validation Loss: 0.863369 \n",
      "\n",
      "Epoch 21\n",
      "-------------------------------\n",
      "Epoch 22\n",
      "-------------------------------\n",
      "Epoch 23\n",
      "-------------------------------\n",
      "Epoch 24\n",
      "-------------------------------\n",
      "Epoch 25\n",
      "-------------------------------\n",
      "Epoch 26\n",
      "-------------------------------\n",
      "Epoch 27\n",
      "-------------------------------\n",
      "Epoch 28\n",
      "-------------------------------\n",
      "Epoch 29\n",
      "-------------------------------\n",
      "Epoch 30\n",
      "-------------------------------\n",
      "training loss: 0.804616\n",
      "Validation Loss: 0.873445 \n",
      "\n",
      "Epoch 31\n",
      "-------------------------------\n"
     ]
    },
    {
     "ename": "KeyboardInterrupt",
     "evalue": "",
     "output_type": "error",
     "traceback": [
      "\u001b[31m---------------------------------------------------------------------------\u001b[39m",
      "\u001b[31mKeyboardInterrupt\u001b[39m                         Traceback (most recent call last)",
      "\u001b[36mCell\u001b[39m\u001b[36m \u001b[39m\u001b[32mIn[50]\u001b[39m\u001b[32m, line 17\u001b[39m\n\u001b[32m     15\u001b[39m optimizer = torch.optim.Adam(model.parameters(), lr=lr)\n\u001b[32m     16\u001b[39m loss_fn = nn.PoissonNLLLoss(log_input=\u001b[38;5;28;01mTrue\u001b[39;00m, full=\u001b[38;5;28;01mTrue\u001b[39;00m)\n\u001b[32m---> \u001b[39m\u001b[32m17\u001b[39m train_model(train_loader, val_loader, model, optimizer, loss_fn, \u001b[32m50\u001b[39m, \u001b[32m10\u001b[39m)\n",
      "\u001b[36mCell\u001b[39m\u001b[36m \u001b[39m\u001b[32mIn[49]\u001b[39m\u001b[32m, line 50\u001b[39m, in \u001b[36mtrain_model\u001b[39m\u001b[34m(train_loader, val_loader, model, optimizer, loss_fn, epochs, overfit_ratio)\u001b[39m\n\u001b[32m     48\u001b[39m \u001b[38;5;28;01mif\u001b[39;00m t % \u001b[32m1\u001b[39m == \u001b[32m0\u001b[39m :\n\u001b[32m     49\u001b[39m     \u001b[38;5;28mprint\u001b[39m(\u001b[33mf\u001b[39m\u001b[33m\"\u001b[39m\u001b[33mEpoch \u001b[39m\u001b[38;5;132;01m{\u001b[39;00mt\u001b[38;5;132;01m}\u001b[39;00m\u001b[38;5;130;01m\\n\u001b[39;00m\u001b[33m-------------------------------\u001b[39m\u001b[33m\"\u001b[39m)\n\u001b[32m---> \u001b[39m\u001b[32m50\u001b[39m loss = train_epoch(train_loader, model, loss_fn, optimizer, t)\n\u001b[32m     51\u001b[39m train_loss.append(loss)\n\u001b[32m     52\u001b[39m loss = validation(val_loader, model, loss_fn, t)\n",
      "\u001b[36mCell\u001b[39m\u001b[36m \u001b[39m\u001b[32mIn[49]\u001b[39m\u001b[32m, line 17\u001b[39m, in \u001b[36mtrain_epoch\u001b[39m\u001b[34m(dataloader, model, loss_fn, optimizer, epoch)\u001b[39m\n\u001b[32m     15\u001b[39m     loss.backward()\n\u001b[32m     16\u001b[39m     optimizer.step()\n\u001b[32m---> \u001b[39m\u001b[32m17\u001b[39m     total_loss += loss.item()\n\u001b[32m     18\u001b[39m \u001b[38;5;28;01mif\u001b[39;00m epoch % \u001b[32m10\u001b[39m == \u001b[32m0\u001b[39m :\n\u001b[32m     19\u001b[39m     \u001b[38;5;28mprint\u001b[39m(\u001b[33mf\u001b[39m\u001b[33m\"\u001b[39m\u001b[33mtraining loss: \u001b[39m\u001b[38;5;132;01m{\u001b[39;00mtotal_loss/num_batches\u001b[38;5;132;01m:\u001b[39;00m\u001b[33m>7f\u001b[39m\u001b[38;5;132;01m}\u001b[39;00m\u001b[33m\"\u001b[39m)\n",
      "\u001b[31mKeyboardInterrupt\u001b[39m: "
     ]
    }
   ],
   "source": [
    "num_kernels=[256, 128, 64, 8]\n",
    "kernel_size=[16,16,16,10]\n",
    "dropout=0.2\n",
    "transformer_heads=4\n",
    "transformer_layers=3\n",
    "lr = 0.0001\n",
    "faste_files_to_load=37\n",
    "\n",
    "model = LocalDnaCnn(num_kernels=num_kernels,\n",
    "                    kernel_size=kernel_size,\n",
    "                    dropout=dropout,\n",
    "                    transformer_heads=transformer_heads,\n",
    "                    transformer_layers=transformer_layers).to(device)\n",
    "\n",
    "optimizer = torch.optim.Adam(model.parameters(), lr=lr)\n",
    "loss_fn = nn.PoissonNLLLoss(log_input=True, full=True)\n",
    "train_model(train_loader, val_loader, model, optimizer, loss_fn, 50, 10)"
   ]
  },
  {
   "cell_type": "markdown",
   "id": "dd08fa91",
   "metadata": {},
   "source": [
    "### Save Model"
   ]
  },
  {
   "cell_type": "code",
   "execution_count": 2,
   "id": "0c4c3967",
   "metadata": {},
   "outputs": [
    {
     "ename": "NameError",
     "evalue": "name 'torch' is not defined",
     "output_type": "error",
     "traceback": [
      "\u001b[31m---------------------------------------------------------------------------\u001b[39m",
      "\u001b[31mNameError\u001b[39m                                 Traceback (most recent call last)",
      "\u001b[36mCell\u001b[39m\u001b[36m \u001b[39m\u001b[32mIn[2]\u001b[39m\u001b[32m, line 1\u001b[39m\n\u001b[32m----> \u001b[39m\u001b[32m1\u001b[39m torch.save(model, \u001b[33m\"\u001b[39m\u001b[33m0511_3layer_CNN_transformer.pth\u001b[39m\u001b[33m\"\u001b[39m)\n",
      "\u001b[31mNameError\u001b[39m: name 'torch' is not defined"
     ]
    }
   ],
   "source": [
    "torch.save(model, \"0511_3layer_CNN_transformer.pth\")"
   ]
  },
  {
   "cell_type": "markdown",
   "id": "20ea812b",
   "metadata": {},
   "source": [
    "### Validate Model"
   ]
  },
  {
   "cell_type": "code",
   "execution_count": null,
   "id": "6328e81d-e169-4bda-88d6-00488285bb6f",
   "metadata": {},
   "outputs": [],
   "source": [
    "model = torch.load(\"model.pth\", weights_only=False)\n",
    "model.to(device)\n",
    "model.eval()"
   ]
  },
  {
   "cell_type": "code",
   "execution_count": 42,
   "id": "eac9729c-4aac-4009-bd73-7a828921c8f4",
   "metadata": {},
   "outputs": [
    {
     "name": "stdout",
     "output_type": "stream",
     "text": [
      "tensor([0.2278, 0.0000, 0.1504, 0.0000, 0.6088, 0.2943, 0.2320, 0.1896, 0.0000,\n",
      "        0.2819, 0.0000, 0.2917, 0.0000, 0.0000, 0.0000, 0.1203, 0.3011, 0.0220,\n",
      "        0.1469, 0.5855, 0.1733, 0.2718, 0.5351, 0.1708, 0.0956, 0.2229, 0.2439,\n",
      "        0.0000, 0.0663, 0.0000, 0.0000, 0.0000, 0.0684, 0.0000, 0.4150, 0.1731,\n",
      "        0.0000], device='mps:0')\n",
      "tensor([0.3412, 0.1847, 0.2860, 0.1843, 0.3247, 0.3879, 0.2698, 0.3059, 0.1604,\n",
      "        0.3318, 0.1689, 0.2403, 0.1428, 0.4194, 0.1637, 0.2647, 0.2741, 0.2795,\n",
      "        0.2860, 0.3037, 0.2052, 0.3226, 0.3220, 0.3479, 0.3582, 0.3145, 0.3244,\n",
      "        0.3156, 0.2939, 0.2073, 0.3360, 0.2204, 0.3125, 0.1557, 0.3019, 0.2960,\n",
      "        0.3532], device='mps:0', grad_fn=<SelectBackward0>)\n",
      "tensor(1.4564, device='mps:0', grad_fn=<MeanBackward0>)\n"
     ]
    }
   ],
   "source": [
    "X, y = next(iter(test_loader))\n",
    "X = X.to(device)\n",
    "\n",
    "y = y.to(device)\n",
    "y_pred = model.forward(X).to(device)\n",
    "y_pred = torch.exp(y_pred)\n",
    "\n",
    "print(y[0])\n",
    "print(y_pred[0])\n",
    "\n",
    "loss_fn = nn.PoissonNLLLoss(log_input=True, full=True)\n",
    "print(loss_fn(y_pred, y))"
   ]
  },
  {
   "cell_type": "code",
   "execution_count": 22,
   "id": "5e3f7220-82c3-49ca-b341-b9d1b9421f88",
   "metadata": {},
   "outputs": [
    {
     "name": "stdout",
     "output_type": "stream",
     "text": [
      "Tissue: Predicted, True\n",
      "0: 0.947, 0.369\n",
      "1: 0.704, 0.570\n",
      "2: 0.702, 0.434\n",
      "3: 0.635, 0.832\n",
      "4: 0.905, 0.569\n",
      "5: 0.650, 3.373\n",
      "6: 0.713, 0.767\n",
      "7: 0.869, 0.737\n",
      "8: 0.704, 0.435\n",
      "9: 0.799, 1.391\n",
      "10: 0.637, 0.539\n",
      "11: 0.671, 2.680\n",
      "12: 0.611, 0.793\n",
      "13: 0.755, 0.000\n",
      "14: 0.646, 0.876\n",
      "15: 0.679, 0.635\n",
      "16: 0.606, 3.501\n",
      "17: 0.683, 3.075\n",
      "18: 0.685, 0.616\n",
      "19: 0.687, 1.104\n",
      "20: 0.702, 2.777\n",
      "21: 0.748, 1.092\n",
      "22: 0.715, 0.591\n",
      "23: 0.759, 0.624\n",
      "24: 0.786, 0.439\n",
      "25: 0.748, 0.986\n",
      "26: 0.739, 0.636\n",
      "27: 0.692, 0.633\n",
      "28: 0.671, 0.683\n",
      "29: 0.687, 2.772\n",
      "30: 0.839, 0.584\n",
      "31: 0.734, 0.627\n",
      "32: 0.687, 0.622\n",
      "33: 0.647, 0.671\n",
      "34: 0.928, 0.449\n",
      "35: 0.700, 1.169\n",
      "36: 0.755, 0.535\n"
     ]
    }
   ],
   "source": [
    "i = 2\n",
    "print('Tissue: Predicted, True')\n",
    "for s, (y_p, y_t) in enumerate(zip(y_pred[i], y[i])):\n",
    "    print(f'{s}: {y_p:.3f}, {y_t:.3f}')"
   ]
  },
  {
   "cell_type": "code",
   "execution_count": 51,
   "id": "c9ea7b6e-3d17-451a-8f2c-fbed5f49f78a",
   "metadata": {},
   "outputs": [
    {
     "data": {
      "image/png": "[encoded data removed]",
      "text/plain": [
       "<Figure size 640x480 with 1 Axes>"
      ]
     },
     "metadata": {},
     "output_type": "display_data"
    }
   ],
   "source": [
    "with torch.no_grad():\n",
    "        model.eval()\n",
    "        pred_list = []\n",
    "        labels_list = []\n",
    "        for batch_index, (X, y) in enumerate(test_loader):\n",
    "            X = X.to(device)\n",
    "            y = y.to(device)\n",
    "            y_pred = model(X)\n",
    "            y_pred = torch.exp(y_pred)\n",
    "            y_pred = torch.flatten(y_pred).cpu().detach().numpy()\n",
    "            pred_list.append(y_pred)\n",
    "\n",
    "            y = torch.flatten(y).cpu().numpy()\n",
    "            labels_list.append(y)\n",
    "\n",
    "            #y_pred = y_pred.cpu().detach().numpy().reshape(output.shape[0])\n",
    "            #labels=target.cpu().numpy().reshape(output.shape[0])\n",
    "            \n",
    "        labels = np.concatenate(labels_list)\n",
    "        predictions = np.concatenate(pred_list)\n",
    "        \n",
    "pearson_r = np.corrcoef(labels, predictions)[0, 1]\n",
    "\n",
    "plt.scatter(labels, predictions)\n",
    "plt.xlabel(\"Experiment Coverage\")\n",
    "plt.ylabel(\"Predicted Coverage\")\n",
    "plt.title(\"Model Accuracy on Test Set (Chromosome 5)\")\n",
    "plt.text(0.1, 0.9, f\"r = {pearson_r:.2f}\", transform=plt.gca().transAxes)\n",
    "m, b = np.polyfit(y, y_pred, 1)\n",
    "X_plot = np.linspace(plt.gca().get_xlim()[0], plt.gca().get_xlim()[1], 100)\n",
    "plt.plot(X_plot, m * X_plot + b, '-', color='red')\n",
    "plt.savefig('LocalDnaCnnAccuracy.png')\n",
    "plt.show()"
   ]
  },
  {
   "cell_type": "code",
   "execution_count": 28,
   "id": "69c66f1f",
   "metadata": {},
   "outputs": [
    {
     "name": "stdout",
     "output_type": "stream",
     "text": [
      "0.4054651081081644\n",
      "0.8465735902799727\n"
     ]
    }
   ],
   "source": [
    "def loss_true(input, target):\n",
    "    return math.exp(input) - target*input\n",
    "\n",
    "def loss_false(input, target):\n",
    "    return input - target*math.log(input)\n",
    "\n",
    "\n",
    "y = 0.5\n",
    "y_mod = math.log(y+1)\n",
    "print(y_mod)\n",
    "\n",
    "\n",
    "y_pred = 0.5\n",
    "\n",
    "print(loss_false(y_pred, y))"
   ]
  },
  {
   "cell_type": "code",
   "execution_count": 48,
   "id": "ae45458c",
   "metadata": {},
   "outputs": [
    {
     "data": {
      "text/plain": [
       "0.9277108433734941"
      ]
     },
     "execution_count": 48,
     "metadata": {},
     "output_type": "execute_result"
    }
   ],
   "source": [
    "0.77/0.83\n"
   ]
  },
  {
   "cell_type": "code",
   "execution_count": null,
   "id": "716e8605",
   "metadata": {},
   "outputs": [],
   "source": []
  }
 ],
 "metadata": {
  "kernelspec": {
   "display_name": "gp",
   "language": "python",
   "name": "python3"
  },
  "language_info": {
   "codemirror_mode": {
    "name": "ipython",
    "version": 3
   },
   "file_extension": ".py",
   "mimetype": "text/x-python",
   "name": "python",
   "nbconvert_exporter": "python",
   "pygments_lexer": "ipython3",
   "version": "3.12.3"
  }
 },
 "nbformat": 4,
 "nbformat_minor": 5
}
