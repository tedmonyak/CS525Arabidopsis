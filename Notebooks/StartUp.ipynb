{
 "cells": [
  {
   "cell_type": "code",
   "execution_count": 6,
   "id": "4ca81878",
   "metadata": {},
   "outputs": [],
   "source": [
    "import os\n",
    "import sys\n",
    "sys.path.append(os.path.abspath(os.path.join(os.getcwd(), os.pardir)))"
   ]
  },
  {
   "cell_type": "code",
   "execution_count": 7,
   "id": "d438fe45-19d6-46ee-8465-33b818ab414a",
   "metadata": {},
   "outputs": [],
   "source": [
    "from src import Download_Data\n",
    "if False:\n",
    "    Download_Data.download_reference_genome()\n",
    "    Download_Data.download_accessiblility_data()"
   ]
  },
  {
   "cell_type": "code",
   "execution_count": 8,
   "id": "cd5c906e-2b7b-460d-b944-c9a1b8902940",
   "metadata": {},
   "outputs": [
    {
     "name": "stdout",
     "output_type": "stream",
     "text": [
      "Chr1\n",
      "Chr2\n",
      "Chr3\n",
      "Chr4\n",
      "Chr5\n"
     ]
    }
   ],
   "source": [
    "from src import Parse_Data\n",
    "if True:\n",
    "    chr_fnames = {'Chr1': 'Data/RefGenome/Arabidopsis_thaliana.TAIR10.dna.chromosome.1.fa.gz',\n",
    "                    'Chr2': 'Data/RefGenome/Arabidopsis_thaliana.TAIR10.dna.chromosome.2.fa.gz',\n",
    "                    'Chr3': 'Data/RefGenome/Arabidopsis_thaliana.TAIR10.dna.chromosome.3.fa.gz',\n",
    "                    'Chr4': 'Data/RefGenome/Arabidopsis_thaliana.TAIR10.dna.chromosome.4.fa.gz',\n",
    "                    'Chr5': 'Data/RefGenome/Arabidopsis_thaliana.TAIR10.dna.chromosome.5.fa.gz'}\n",
    "    \n",
    "    bw_fnames = 'Data/chromatin_cs425/*/*.rpgc.bw'\n",
    "    output_dir = 'Data/Parsed_Data_Corrected'\n",
    "    Parse_Data.generate_input_files_from_bw(bw_fnames,\n",
    "                                output_dir,\n",
    "                                chr_fnames,\n",
    "                                seq_length=2500,\n",
    "                                interval=2500,\n",
    "                                method='corrected_sum',)"
   ]
  },
  {
   "cell_type": "code",
   "execution_count": null,
   "id": "ae8861a5-cf41-471d-b776-1f9879a695c2",
   "metadata": {},
   "outputs": [],
   "source": []
  }
 ],
 "metadata": {
  "kernelspec": {
   "display_name": "Python 3 (ipykernel)",
   "language": "python",
   "name": "python3"
  },
  "language_info": {
   "codemirror_mode": {
    "name": "ipython",
    "version": 3
   },
   "file_extension": ".py",
   "mimetype": "text/x-python",
   "name": "python",
   "nbconvert_exporter": "python",
   "pygments_lexer": "ipython3",
   "version": "3.12.2"
  }
 },
 "nbformat": 4,
 "nbformat_minor": 5
}
