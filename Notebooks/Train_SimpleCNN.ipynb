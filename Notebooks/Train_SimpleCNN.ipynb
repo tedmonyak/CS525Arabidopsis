{
 "cells": [
  {
   "cell_type": "code",
   "execution_count": null,
   "id": "d0af1b84",
   "metadata": {},
   "outputs": [],
   "source": [
    "import torch\n",
    "from torch import nn\n",
    "import os\n",
    "import math\n",
    "import matplotlib.pyplot as plt\n",
    "import numpy as np\n",
    "import sys\n",
    "\n",
    "sys.path.append(os.path.abspath(os.path.join(os.getcwd(), os.pardir)))\n",
    "\n",
    "device = (\n",
    "    \"mps\"\n",
    "    if torch.backends.mps.is_available()\n",
    "    else \"cuda\"\n",
    "    if torch.cuda.is_available()\n",
    "    else \"cpu\"\n",
    ")\n",
    "device = torch.device(device)\n",
    "print(f\"Using {device} device\")"
   ]
  },
  {
   "cell_type": "code",
   "execution_count": null,
   "id": "6b2dd638",
   "metadata": {},
   "outputs": [],
   "source": [
    "from src import get_data_loaders\n",
    "\n",
    "faste_files_to_load = 37\n",
    "normalize = False\n",
    "num_train_val_data = math.inf\n",
    "num_test_data = math.inf\n",
    "\n",
    "\n",
    "train_loader, val_loader, test_loader = get_data_loaders(faste_files_to_load=faste_files_to_load, \n",
    "                                                         normalize=normalize, \n",
    "                                                         train_val_data_to_load=num_train_val_data, \n",
    "                                                         test_data_to_load=num_test_data)\n",
    "train_loader = train_loader.to(device)\n",
    "train_loader = val_loader.to(device)\n",
    "train_loader = test_loader.to(device)"
   ]
  },
  {
   "cell_type": "code",
   "execution_count": null,
   "id": "bb0bd24c",
   "metadata": {},
   "outputs": [],
   "source": [
    "from src import SimpleCNN\n",
    "from src import train_model\n",
    "\n",
    "save_dir = os.path.join(os.getcwd(), 'Model_SimpleCNN')\n",
    "os.makedirs(save_dir, exist_ok=True)\n",
    "\n",
    "num_kernels=[512] # [32,16,8]\n",
    "kernel_size=[256]\n",
    "dropout=0.1\n",
    "model = SimpleCNN(num_kernels=num_kernels,\n",
    "                    kernel_size=kernel_size,\n",
    "                    dropout=dropout,\n",
    "                    output_size=faste_files_to_load\n",
    "                    ).to(device)\n",
    "\n",
    "lr = 0.0001\n",
    "epochs = 500\n",
    "patientce = 10\n",
    "optimizer = torch.optim.Adam(model.parameters(), lr=lr)\n",
    "loss_fn = nn.PoissonNLLLoss(log_input=True, full=True)\n",
    "train_model(train_loader, val_loader, model, optimizer, loss_fn, epochs, save_dir, patientce)"
   ]
  },
  {
   "cell_type": "code",
   "execution_count": null,
   "id": "6ccfca5c",
   "metadata": {},
   "outputs": [],
   "source": [
    "X, y = next(iter(test_loader))\n",
    "y_pred = model.forward(X).to(device)\n",
    "i = 2\n",
    "print('Tissue: Predicted, True')\n",
    "for s, (y_p, y_t) in enumerate(zip(y_pred[i], y[i])):\n",
    "    print(f'{s}: {y_p:.3f}, {y_t:.3f}')"
   ]
  },
  {
   "cell_type": "code",
   "execution_count": null,
   "id": "8f77bf04",
   "metadata": {},
   "outputs": [],
   "source": [
    "with torch.no_grad():\n",
    "        model.eval()\n",
    "        pred_list = []\n",
    "        labels_list = []\n",
    "        for batch_index, (X, y) in enumerate(test_loader):\n",
    "            X = X.to(device)\n",
    "            y = y.to(device)\n",
    "            y_pred = torch.exp(model(X))\n",
    "            y_pred = torch.flatten(y_pred).cpu().detach().numpy()\n",
    "            pred_list.append(y_pred)\n",
    "\n",
    "            y = torch.flatten(y).cpu().numpy()\n",
    "            labels_list.append(y)\n",
    "            \n",
    "        labels = np.concatenate(labels_list)\n",
    "        predictions = np.concatenate(pred_list)\n",
    "        \n",
    "pearson_r = np.corrcoef(labels, predictions)[0, 1]\n",
    "\n",
    "plt.scatter(labels, predictions)\n",
    "plt.xlabel(\"Experiment Coverage\")\n",
    "plt.ylabel(\"Predicted Coverage\")\n",
    "plt.title(\"Model Accuracy on Test Set (Chromosome 5)\")\n",
    "plt.text(0.1, 0.9, f\"r = {pearson_r:.2f}\", transform=plt.gca().transAxes)\n",
    "m, b = np.polyfit(y, y_pred, 1)\n",
    "X_plot = np.linspace(plt.gca().get_xlim()[0], plt.gca().get_xlim()[1], 100)\n",
    "plt.plot(X_plot, m * X_plot + b, '-', color='red')\n",
    "plt.plot(X_plot, X_plot, '--', color='blue', label='y = x')\n",
    "plt.savefig(os.path.join(save_dir, 'Accuracy.png'), dpi=300)\n",
    "plt.show()"
   ]
  }
 ],
 "metadata": {
  "language_info": {
   "name": "python"
  }
 },
 "nbformat": 4,
 "nbformat_minor": 5
}
